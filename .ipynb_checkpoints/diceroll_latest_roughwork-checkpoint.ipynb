{
 "cells": [
  {
   "cell_type": "code",
   "execution_count": 10,
   "metadata": {},
   "outputs": [],
   "source": [
    "import numpy as np\n",
    "import matplotlib.pyplot as plt\n",
    "import seaborn as sns\n",
    "%matplotlib inline\n",
    "import random"
   ]
  },
  {
   "cell_type": "code",
   "execution_count": 11,
   "metadata": {},
   "outputs": [
    {
     "ename": "SyntaxError",
     "evalue": "unexpected EOF while parsing (<ipython-input-11-66b37762346d>, line 2)",
     "output_type": "error",
     "traceback": [
      "\u001b[1;36m  File \u001b[1;32m\"<ipython-input-11-66b37762346d>\"\u001b[1;36m, line \u001b[1;32m2\u001b[0m\n\u001b[1;33m    \u001b[0m\n\u001b[1;37m    ^\u001b[0m\n\u001b[1;31mSyntaxError\u001b[0m\u001b[1;31m:\u001b[0m unexpected EOF while parsing\n"
     ]
    }
   ],
   "source": [
    "# we need to create a function with a value of 2 dice (k=2) and to link n=100 times to it somehow, possibly through loop iteration.\n",
    "# while n<101?\n",
    "def dicerolls(k):\n",
    "    "
   ]
  },
  {
   "cell_type": "code",
   "execution_count": null,
   "metadata": {},
   "outputs": [],
   "source": []
  },
  {
   "cell_type": "code",
   "execution_count": 12,
   "metadata": {},
   "outputs": [],
   "source": [
    "dice_1 = np.random.randint(1,7,size=1000)"
   ]
  },
  {
   "cell_type": "code",
   "execution_count": 13,
   "metadata": {},
   "outputs": [],
   "source": [
    "dice_2 = np.random.randint(1,7,size=1000)"
   ]
  },
  {
   "cell_type": "code",
   "execution_count": 14,
   "metadata": {},
   "outputs": [],
   "source": [
    "dice_total = dice_1 + dice_2"
   ]
  },
  {
   "cell_type": "markdown",
   "metadata": {},
   "source": [
    "#### Converting our array into a list\n",
    "Reference:  https://www.journaldev.com/32797/python-convert-numpy-array-to-list"
   ]
  },
  {
   "cell_type": "code",
   "execution_count": 15,
   "metadata": {},
   "outputs": [
    {
     "name": "stdout",
     "output_type": "stream",
     "text": [
      "Dice_total: [6, 5, 4, 7, 9, 4, 9, 5, 7, 8, 10, 6, 2, 6, 10, 7, 5, 5, 10, 7, 8, 8, 8, 4, 4, 6, 12, 9, 7, 7, 9, 7, 7, 5, 10, 9, 8, 2, 5, 10, 7, 3, 5, 7, 7, 8, 5, 8, 12, 11, 9, 3, 7, 8, 9, 6, 9, 6, 8, 5, 8, 7, 5, 9, 10, 8, 9, 10, 9, 10, 9, 8, 6, 6, 6, 5, 8, 3, 4, 3, 8, 6, 6, 3, 2, 7, 10, 5, 7, 2, 3, 6, 2, 7, 9, 10, 8, 5, 6, 8, 11, 6, 6, 4, 5, 7, 7, 7, 8, 10, 3, 8, 8, 9, 6, 9, 12, 6, 7, 11, 10, 7, 2, 11, 8, 7, 6, 7, 3, 6, 6, 2, 8, 12, 7, 6, 8, 9, 4, 7, 5, 5, 8, 2, 5, 10, 3, 10, 8, 5, 6, 7, 10, 3, 6, 9, 7, 5, 2, 8, 2, 7, 4, 7, 6, 6, 4, 11, 7, 11, 5, 6, 10, 8, 5, 6, 4, 5, 6, 5, 5, 2, 4, 6, 10, 6, 7, 4, 11, 8, 7, 3, 5, 10, 11, 7, 9, 10, 7, 7, 7, 4, 9, 3, 7, 8, 6, 4, 5, 8, 5, 6, 5, 6, 8, 7, 6, 10, 10, 8, 7, 4, 4, 6, 5, 4, 8, 9, 8, 10, 5, 7, 5, 5, 5, 4, 9, 3, 7, 2, 2, 6, 4, 6, 9, 6, 6, 6, 9, 5, 8, 5, 7, 3, 7, 4, 8, 4, 7, 11, 9, 6, 9, 6, 7, 10, 8, 5, 8, 8, 7, 10, 9, 6, 8, 4, 9, 6, 9, 7, 10, 9, 10, 4, 8, 8, 6, 8, 8, 5, 4, 6, 10, 7, 10, 7, 6, 7, 7, 8, 7, 4, 8, 7, 8, 6, 7, 4, 4, 9, 9, 7, 4, 12, 4, 10, 8, 7, 4, 9, 4, 7, 9, 7, 4, 5, 7, 12, 8, 7, 8, 8, 9, 9, 6, 6, 8, 10, 8, 8, 7, 5, 3, 5, 6, 7, 4, 8, 8, 2, 7, 8, 7, 4, 11, 11, 9, 6, 9, 5, 2, 7, 8, 4, 7, 4, 2, 9, 5, 5, 8, 7, 5, 6, 4, 7, 7, 4, 5, 7, 4, 9, 10, 4, 2, 4, 10, 6, 7, 5, 2, 10, 6, 12, 11, 7, 5, 5, 11, 9, 6, 3, 8, 7, 2, 9, 5, 6, 8, 3, 7, 5, 9, 10, 7, 7, 6, 8, 5, 7, 6, 11, 6, 10, 9, 8, 9, 6, 6, 9, 12, 12, 7, 9, 3, 11, 10, 3, 10, 8, 10, 5, 3, 7, 11, 5, 8, 7, 3, 7, 6, 3, 7, 6, 6, 7, 8, 3, 2, 7, 8, 9, 8, 7, 3, 10, 7, 4, 7, 5, 9, 10, 3, 6, 6, 7, 3, 8, 8, 4, 2, 5, 9, 7, 12, 11, 9, 2, 8, 10, 7, 9, 6, 6, 7, 2, 10, 2, 8, 5, 11, 7, 7, 10, 8, 8, 3, 8, 8, 7, 10, 11, 5, 10, 9, 12, 6, 5, 5, 6, 8, 8, 9, 12, 7, 8, 9, 7, 5, 8, 9, 11, 9, 9, 5, 6, 5, 4, 7, 8, 5, 2, 7, 10, 10, 7, 7, 8, 6, 7, 5, 4, 5, 8, 9, 7, 10, 9, 7, 7, 4, 6, 7, 9, 4, 6, 11, 4, 7, 8, 4, 10, 7, 3, 8, 7, 12, 7, 8, 4, 9, 4, 7, 8, 5, 3, 3, 4, 3, 6, 8, 6, 7, 8, 6, 4, 10, 5, 8, 3, 3, 5, 3, 2, 9, 5, 8, 6, 9, 8, 8, 6, 7, 10, 2, 5, 6, 11, 4, 7, 9, 8, 6, 7, 5, 5, 8, 7, 7, 6, 7, 10, 5, 7, 6, 9, 8, 7, 7, 2, 5, 10, 5, 4, 5, 6, 6, 6, 6, 2, 3, 4, 6, 8, 9, 8, 3, 3, 5, 10, 4, 6, 4, 7, 2, 9, 10, 3, 10, 4, 7, 4, 10, 8, 8, 11, 4, 10, 12, 2, 8, 4, 7, 10, 6, 4, 9, 9, 10, 9, 7, 11, 6, 6, 8, 8, 7, 12, 8, 3, 9, 9, 5, 7, 7, 4, 9, 10, 5, 8, 8, 7, 6, 11, 8, 7, 12, 7, 11, 6, 7, 8, 5, 11, 12, 10, 3, 12, 7, 7, 3, 12, 3, 4, 11, 8, 7, 8, 7, 4, 12, 5, 4, 7, 4, 6, 4, 7, 9, 12, 3, 7, 9, 8, 10, 7, 7, 8, 11, 3, 7, 7, 8, 6, 7, 8, 8, 12, 11, 8, 8, 4, 10, 4, 11, 5, 7, 9, 8, 5, 5, 8, 7, 4, 7, 6, 10, 10, 6, 6, 3, 10, 9, 8, 4, 11, 5, 7, 7, 3, 7, 9, 3, 7, 8, 5, 4, 7, 6, 7, 4, 6, 6, 4, 7, 11, 4, 5, 10, 7, 5, 8, 8, 3, 8, 4, 5, 3, 10, 3, 5, 10, 7, 8, 5, 6, 11, 8, 4, 9, 7, 6, 2, 5, 2, 8, 4, 5, 4, 7, 9, 5, 11, 8, 8, 8, 4, 10, 2, 8, 5, 2, 9, 4, 7, 8, 8, 8, 9, 8, 7, 10, 8, 6, 10, 7, 3, 2, 8, 5, 6, 6, 9, 10, 5, 2, 10, 5, 2, 8, 11, 5, 7, 6, 5, 7, 4, 8, 5, 4, 8, 4, 7, 10, 10, 6, 8, 3, 4, 8, 8, 9, 4, 4, 10, 5, 8, 7, 5, 6, 12, 5, 9, 11, 4, 7, 2, 4, 8, 4, 11, 12, 9, 6, 9, 7, 6, 6, 8, 5, 8, 5, 2, 4, 5, 6, 6, 4, 8, 5, 5, 8, 8, 3, 8, 8, 12, 3, 6, 6, 8, 3, 9, 11, 7, 5, 6, 5, 6, 10, 12, 4, 9, 7, 7, 7, 6, 4, 8, 6, 8, 5, 7, 9, 4, 9, 10, 5, 5, 9, 7, 5, 7, 3, 6, 3, 10, 10, 7, 10]\n"
     ]
    }
   ],
   "source": [
    "dice_total_list = dice_total.tolist()\n",
    "print(f'Dice_total: {dice_total_list}')"
   ]
  },
  {
   "cell_type": "code",
   "execution_count": 16,
   "metadata": {},
   "outputs": [],
   "source": [
    "# creating an empty list that will store the 2nd value - amount of times each sum occured \n",
    "list2 = []"
   ]
  },
  {
   "cell_type": "code",
   "execution_count": 17,
   "metadata": {},
   "outputs": [],
   "source": [
    "two = dice_total_list.count(2)\n",
    "three = dice_total_list.count(3)\n",
    "four = dice_total_list.count(4)\n",
    "five = dice_total_list.count(5)\n",
    "six = dice_total_list.count(6)\n",
    "seven = dice_total_list.count(7)\n",
    "eight = dice_total_list.count(8)\n",
    "nine = dice_total_list.count(9)\n",
    "ten = dice_total_list.count(10)\n",
    "eleven = dice_total_list.count(11)\n",
    "twelve = dice_total_list.count(12)"
   ]
  },
  {
   "cell_type": "code",
   "execution_count": 18,
   "metadata": {},
   "outputs": [],
   "source": [
    "# creating the 1st list that will store the 1st value - all the possible sums of 2 dice\n",
    "list1 = [2,3,4,5,6,7,8,9,10,11,12]"
   ]
  },
  {
   "cell_type": "code",
   "execution_count": 19,
   "metadata": {},
   "outputs": [],
   "source": [
    "# using .extend() function to add values to list2\n",
    "# https://stackoverflow.com/questions/20196159/how-to-append-multiple-values-to-a-list-in-python#:~:text=extend%20to%20extend%20the%20list,provides%20a%20sequence%20of%20values.&text=So%20you%20can%20use%20list,()%20to%20append%20multiple%20values.\n",
    "\n",
    "list2.extend((two,three,four,five,six,seven,eight,nine,ten,eleven,twelve))"
   ]
  },
  {
   "cell_type": "code",
   "execution_count": 20,
   "metadata": {},
   "outputs": [
    {
     "data": {
      "text/plain": [
       "[40, 57, 97, 115, 123, 174, 154, 92, 83, 39, 26]"
      ]
     },
     "execution_count": 20,
     "metadata": {},
     "output_type": "execute_result"
    }
   ],
   "source": [
    "list2"
   ]
  },
  {
   "cell_type": "code",
   "execution_count": 21,
   "metadata": {},
   "outputs": [],
   "source": [
    "# we combine data from list1 and list2 into one single dictionary\n",
    "# https://careerkarma.com/blog/python-convert-list-to-dictionary/#:~:text=Converting%20a%20list%20to%20a,the%20Python%20zip()%20function.\n",
    "# https://stackoverflow.com/questions/209840/convert-two-lists-into-a-dictionary"
   ]
  },
  {
   "cell_type": "code",
   "execution_count": 22,
   "metadata": {},
   "outputs": [],
   "source": [
    "dictionary = {list1[i]: list2[i] for i in range(len(list1))}"
   ]
  },
  {
   "cell_type": "code",
   "execution_count": 23,
   "metadata": {},
   "outputs": [
    {
     "data": {
      "text/plain": [
       "{2: 40,\n",
       " 3: 57,\n",
       " 4: 97,\n",
       " 5: 115,\n",
       " 6: 123,\n",
       " 7: 174,\n",
       " 8: 154,\n",
       " 9: 92,\n",
       " 10: 83,\n",
       " 11: 39,\n",
       " 12: 26}"
      ]
     },
     "execution_count": 23,
     "metadata": {},
     "output_type": "execute_result"
    }
   ],
   "source": [
    "dictionary"
   ]
  },
  {
   "cell_type": "code",
   "execution_count": null,
   "metadata": {},
   "outputs": [],
   "source": []
  },
  {
   "cell_type": "code",
   "execution_count": null,
   "metadata": {},
   "outputs": [],
   "source": []
  }
 ],
 "metadata": {
  "kernelspec": {
   "display_name": "Python 3",
   "language": "python",
   "name": "python3"
  },
  "language_info": {
   "codemirror_mode": {
    "name": "ipython",
    "version": 3
   },
   "file_extension": ".py",
   "mimetype": "text/x-python",
   "name": "python",
   "nbconvert_exporter": "python",
   "pygments_lexer": "ipython3",
   "version": "3.8.3"
  }
 },
 "nbformat": 4,
 "nbformat_minor": 4
}
