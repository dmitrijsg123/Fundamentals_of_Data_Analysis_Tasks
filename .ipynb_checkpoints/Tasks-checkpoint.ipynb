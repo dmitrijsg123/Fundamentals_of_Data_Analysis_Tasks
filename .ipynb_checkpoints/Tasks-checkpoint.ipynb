{
 "cells": [
  {
   "cell_type": "markdown",
   "metadata": {},
   "source": [
    "## Task 1"
   ]
  },
  {
   "cell_type": "markdown",
   "metadata": {},
   "source": [
    "##### Python to take a list as input and to return a dictionary of unique items in the list as keys and the number of times each item appears as values\n",
    "##### I am using my latest golf scorecard as a list of results on each of 18 holes "
   ]
  },
  {
   "cell_type": "code",
   "execution_count": 31,
   "metadata": {},
   "outputs": [],
   "source": [
    "import numpy as np"
   ]
  },
  {
   "cell_type": "code",
   "execution_count": 32,
   "metadata": {
    "scrolled": false
   },
   "outputs": [
    {
     "name": "stdout",
     "output_type": "stream",
     "text": [
      "{'Bogey': 3, 'Par': 6, 'Q_Bogey': 2, 'T_Bogey': 2, 'D_Bogey': 4, 'Birdie': 1}\n"
     ]
    }
   ],
   "source": [
    "\n",
    "\n",
    "def Counts(my_golf_scorecard): \n",
    "   \n",
    "   # We have to create an empty dictionary first\n",
    "   count = {} \n",
    "   for i in ['Bogey', 'Bogey','Par','Par', 'Q_Bogey', 'T_Bogey', 'D_Bogey', 'Par', 'Bogey', 'Par', 'Birdie', 'Q_Bogey', 'D_Bogey', 'D_Bogey', 'Par', 'D_Bogey','Par', 'T_Bogey'] : \n",
    "\n",
    "      count[i] = count.get(i, 0) + 1        # using an in-built Python get() function\n",
    "   return count \n",
    "\n",
    " # Driver function       \n",
    "if __name__ == \"__main__\":  \n",
    "   my_golf_scorecard = ['Bogey', 'Bogey','Par','Par', 'Q_Bogey', 'T_Bogey', 'D_Bogey', 'Par', 'Bogey', 'Par', 'Birdie', 'Q_Bogey', 'D_Bogey', 'D_Bogey', 'Par', 'D_Bogey','Par', 'T_Bogey'] \n",
    "   print(Counts(my_golf_scorecard)) "
   ]
  },
  {
   "cell_type": "raw",
   "metadata": {},
   "source": [
    "\n",
    "References: Driver function           https://www.codegrepper.com/code-examples/delphi/if+__name__%3D%3D+__main__+in+python\n",
    "  \n",
    "                         # https://www.geeksforgeeks.org/what-does-the-if-__name__-__main__-do/#:~:text=Python%20files%20can%20act%20as,run%20directly%2C%20and%20not%20imported.\n",
    "    \n",
    " "
   ]
  },
  {
   "cell_type": "markdown",
   "metadata": {},
   "source": [
    "## Task 2"
   ]
  },
  {
   "cell_type": "markdown",
   "metadata": {},
   "source": [
    "##### Write a Python function called dicerolls that simulates rolling dice. The function shoud simulate randomly rolling k dice n times, keeping track of each total face value. It should then return a dictionary with the number of times each possible total face value occured.\n",
    "***"
   ]
  },
  {
   "cell_type": "code",
   "execution_count": 6,
   "metadata": {},
   "outputs": [],
   "source": [
    "import numpy as np\n",
    "import matplotlib.pyplot as plt\n",
    "import seaborn as sns\n",
    "%matplotlib inline\n",
    "import random"
   ]
  },
  {
   "cell_type": "code",
   "execution_count": null,
   "metadata": {},
   "outputs": [],
   "source": [
    "# number of dice k = 2, times rolled n = 1000\n",
    "def dicerolls(k,n):\n",
    "    "
   ]
  },
  {
   "cell_type": "code",
   "execution_count": 11,
   "metadata": {},
   "outputs": [],
   "source": [
    "dice_1 = np.random.randint(1,7,size=1000)"
   ]
  },
  {
   "cell_type": "code",
   "execution_count": 37,
   "metadata": {},
   "outputs": [],
   "source": [
    "dice_2 = np.random.randint(1,7,size=1000)"
   ]
  },
  {
   "cell_type": "code",
   "execution_count": 40,
   "metadata": {},
   "outputs": [],
   "source": [
    "dice_total = dice_1 + dice_2"
   ]
  },
  {
   "cell_type": "code",
   "execution_count": 45,
   "metadata": {},
   "outputs": [
    {
     "ename": "AttributeError",
     "evalue": "'numpy.ndarray' object has no attribute 'get'",
     "output_type": "error",
     "traceback": [
      "\u001b[1;31m---------------------------------------------------------------------------\u001b[0m",
      "\u001b[1;31mAttributeError\u001b[0m                            Traceback (most recent call last)",
      "\u001b[1;32m<ipython-input-45-b290997ddb03>\u001b[0m in \u001b[0;36m<module>\u001b[1;34m\u001b[0m\n\u001b[1;32m----> 1\u001b[1;33m \u001b[0mff\u001b[0m \u001b[1;33m=\u001b[0m \u001b[0mdice_total\u001b[0m\u001b[1;33m.\u001b[0m\u001b[0mget\u001b[0m\u001b[1;33m(\u001b[0m\u001b[1;33m)\u001b[0m\u001b[1;33m\u001b[0m\u001b[1;33m\u001b[0m\u001b[0m\n\u001b[0m",
      "\u001b[1;31mAttributeError\u001b[0m: 'numpy.ndarray' object has no attribute 'get'"
     ]
    }
   ],
   "source": [
    "ff = dice_total.get()"
   ]
  },
  {
   "cell_type": "code",
   "execution_count": null,
   "metadata": {},
   "outputs": [],
   "source": []
  },
  {
   "cell_type": "markdown",
   "metadata": {},
   "source": [
    "#### Converting our array into a list\n",
    "Reference:  https://www.journaldev.com/32797/python-convert-numpy-array-to-list"
   ]
  },
  {
   "cell_type": "code",
   "execution_count": 14,
   "metadata": {
    "scrolled": true
   },
   "outputs": [
    {
     "name": "stdout",
     "output_type": "stream",
     "text": [
      "Dice_total: [10, 8, 7, 9, 9, 7, 3, 5, 9, 5, 7, 6, 5, 4, 11, 9, 8, 3, 4, 6, 5, 6, 12, 9, 7, 4, 6, 5, 7, 7, 7, 2, 5, 7, 5, 9, 11, 10, 6, 6, 6, 11, 4, 8, 7, 12, 11, 5, 10, 5, 4, 4, 8, 6, 6, 10, 7, 6, 5, 9, 7, 7, 4, 8, 7, 9, 8, 5, 7, 6, 11, 8, 10, 5, 4, 7, 7, 11, 6, 7, 5, 3, 11, 7, 8, 8, 5, 5, 7, 5, 7, 7, 11, 7, 5, 3, 12, 2, 8, 8, 8, 7, 5, 8, 4, 7, 4, 5, 6, 7, 6, 10, 5, 5, 12, 9, 8, 12, 10, 4, 11, 7, 5, 8, 8, 7, 4, 6, 7, 3, 3, 8, 7, 7, 7, 10, 4, 7, 4, 8, 10, 7, 11, 8, 8, 7, 8, 6, 6, 4, 6, 12, 7, 9, 4, 6, 8, 9, 4, 7, 3, 11, 9, 5, 4, 5, 5, 7, 9, 6, 7, 7, 9, 11, 5, 5, 6, 6, 8, 7, 7, 7, 5, 7, 9, 12, 4, 8, 9, 7, 10, 8, 8, 7, 8, 11, 3, 6, 5, 7, 4, 7, 5, 11, 5, 9, 8, 6, 10, 7, 7, 3, 9, 11, 12, 6, 9, 11, 8, 5, 8, 10, 4, 4, 10, 11, 9, 9, 6, 6, 3, 6, 7, 7, 11, 5, 3, 11, 3, 9, 4, 5, 8, 6, 11, 6, 4, 9, 10, 6, 3, 7, 2, 7, 8, 9, 6, 12, 3, 3, 6, 7, 7, 5, 9, 9, 5, 9, 12, 6, 7, 6, 8, 8, 3, 4, 7, 5, 7, 7, 11, 6, 10, 8, 5, 10, 8, 10, 7, 8, 6, 7, 2, 10, 3, 11, 9, 10, 4, 4, 9, 6, 6, 4, 8, 7, 11, 7, 9, 7, 5, 3, 9, 9, 7, 5, 5, 11, 3, 9, 11, 7, 11, 4, 7, 8, 8, 11, 3, 4, 7, 10, 9, 5, 9, 6, 6, 6, 11, 11, 9, 7, 8, 5, 12, 4, 7, 6, 6, 12, 8, 11, 7, 10, 8, 10, 7, 8, 8, 6, 7, 6, 5, 9, 7, 7, 5, 5, 8, 5, 6, 7, 3, 3, 8, 6, 4, 7, 8, 9, 7, 7, 10, 5, 7, 4, 6, 9, 9, 9, 4, 8, 8, 4, 9, 8, 2, 10, 5, 6, 8, 6, 8, 6, 6, 8, 11, 2, 9, 11, 6, 5, 5, 10, 9, 4, 6, 10, 5, 10, 9, 5, 9, 5, 6, 7, 8, 3, 6, 7, 12, 7, 4, 7, 4, 9, 7, 12, 6, 6, 6, 10, 8, 6, 6, 11, 4, 5, 7, 10, 3, 9, 7, 6, 5, 5, 11, 7, 7, 7, 4, 6, 6, 2, 5, 8, 8, 5, 12, 10, 9, 10, 5, 6, 12, 10, 9, 8, 3, 11, 8, 5, 8, 9, 8, 3, 8, 8, 9, 4, 8, 7, 6, 3, 4, 10, 9, 11, 11, 3, 11, 9, 3, 6, 5, 2, 3, 10, 10, 5, 8, 7, 7, 10, 10, 9, 9, 4, 6, 8, 6, 11, 8, 5, 7, 7, 4, 8, 3, 6, 7, 8, 6, 3, 6, 8, 6, 8, 8, 6, 3, 9, 8, 4, 9, 7, 8, 7, 10, 8, 9, 2, 6, 2, 7, 8, 9, 4, 8, 7, 9, 5, 6, 11, 7, 3, 6, 6, 11, 5, 5, 7, 7, 10, 5, 7, 7, 8, 7, 8, 4, 7, 4, 8, 3, 9, 3, 11, 7, 4, 6, 12, 12, 9, 5, 7, 3, 6, 5, 8, 5, 3, 9, 4, 6, 8, 8, 6, 7, 8, 6, 8, 9, 7, 9, 8, 8, 11, 8, 10, 8, 7, 8, 7, 5, 10, 3, 10, 7, 6, 3, 8, 6, 7, 8, 2, 2, 11, 8, 8, 9, 3, 8, 6, 7, 7, 11, 2, 3, 5, 9, 8, 7, 2, 10, 8, 6, 8, 11, 4, 5, 9, 4, 8, 6, 4, 10, 7, 10, 8, 6, 10, 11, 12, 8, 5, 12, 2, 11, 7, 6, 6, 2, 4, 4, 7, 5, 8, 6, 4, 8, 3, 11, 8, 6, 9, 4, 9, 8, 11, 6, 6, 4, 9, 3, 11, 7, 11, 4, 7, 8, 6, 10, 8, 7, 9, 2, 5, 8, 9, 10, 4, 3, 12, 5, 9, 3, 11, 7, 9, 7, 7, 8, 4, 7, 12, 6, 7, 7, 4, 8, 7, 7, 4, 2, 10, 4, 7, 11, 7, 4, 9, 4, 2, 12, 4, 9, 4, 6, 3, 6, 8, 7, 5, 4, 9, 5, 5, 9, 7, 8, 8, 6, 7, 10, 5, 9, 4, 2, 9, 7, 7, 9, 4, 8, 7, 3, 4, 10, 7, 10, 3, 6, 2, 8, 8, 7, 11, 8, 7, 3, 4, 9, 3, 5, 9, 6, 6, 6, 8, 9, 7, 6, 7, 8, 8, 9, 4, 6, 9, 3, 6, 5, 8, 7, 7, 11, 6, 6, 8, 10, 6, 12, 6, 2, 4, 12, 10, 9, 5, 8, 7, 7, 6, 8, 7, 8, 12, 8, 5, 4, 5, 4, 10, 8, 9, 9, 9, 9, 9, 7, 7, 8, 9, 6, 6, 4, 7, 9, 9, 10, 3, 3, 11, 9, 7, 4, 6, 6, 8, 6, 11, 12, 8, 5, 3, 2, 5, 3, 6, 9, 3, 12, 11, 7, 7, 6, 5, 11, 4, 4, 8, 4, 7, 9, 8, 5, 6, 9, 4, 7, 8, 4, 7, 9, 9, 5, 7, 7, 8, 7, 6, 4, 7, 8, 10, 6, 3, 7, 4, 5, 9, 5, 2, 8, 4, 7, 10, 9, 6, 6, 11, 4, 7, 9, 2, 10, 5, 9, 5, 5, 10, 3, 11, 9, 6, 7, 6, 9, 3, 5, 9, 11, 10, 11, 7, 12, 4, 7, 11, 9, 8, 8, 7, 7, 7, 7, 6, 5, 3, 9, 12, 9, 10, 8, 8, 5, 7, 7, 11, 6, 5, 5, 2, 11, 5, 9, 9, 5, 10]\n"
     ]
    }
   ],
   "source": [
    "dice_total_list = dice_total.tolist()\n",
    "print(f'Dice_total: {dice_total_list}')"
   ]
  },
  {
   "cell_type": "code",
   "execution_count": 20,
   "metadata": {},
   "outputs": [],
   "source": [
    "# creating an empty list that will store the 2nd value - amount of times each sum occured \n",
    "list2 = []"
   ]
  },
  {
   "cell_type": "code",
   "execution_count": 25,
   "metadata": {},
   "outputs": [],
   "source": [
    "two = dice_total_list.count(2)\n",
    "three = dice_total_list.count(3)\n",
    "four = dice_total_list.count(4)\n",
    "five = dice_total_list.count(5)\n",
    "six = dice_total_list.count(6)\n",
    "seven = dice_total_list.count(7)\n",
    "eight = dice_total_list.count(8)\n",
    "nine = dice_total_list.count(9)\n",
    "ten = dice_total_list.count(10)\n",
    "eleven = dice_total_list.count(11)\n",
    "twelve = dice_total_list.count(12)"
   ]
  },
  {
   "cell_type": "code",
   "execution_count": 26,
   "metadata": {},
   "outputs": [],
   "source": [
    "# creating the 1st list that will store the 1st value - all the possible sums of 2 dice\n",
    "list1 = [2,3,4,5,6,7,8,9,10,11,12]"
   ]
  },
  {
   "cell_type": "code",
   "execution_count": 27,
   "metadata": {},
   "outputs": [],
   "source": [
    "# using .extend() function to add values to list2\n",
    "# https://stackoverflow.com/questions/20196159/how-to-append-multiple-values-to-a-list-in-python#:~:text=extend%20to%20extend%20the%20list,provides%20a%20sequence%20of%20values.&text=So%20you%20can%20use%20list,()%20to%20append%20multiple%20values.\n",
    "\n",
    "list2.extend((two,three,four,five,six,seven,eight,nine,ten,eleven,twelve))"
   ]
  },
  {
   "cell_type": "code",
   "execution_count": 28,
   "metadata": {},
   "outputs": [
    {
     "data": {
      "text/plain": [
       "[26, 61, 89, 104, 129, 175, 141, 115, 63, 67, 30]"
      ]
     },
     "execution_count": 28,
     "metadata": {},
     "output_type": "execute_result"
    }
   ],
   "source": [
    "list2"
   ]
  },
  {
   "cell_type": "raw",
   "metadata": {},
   "source": [
    "We combine data from list1 and list2 into one single dictionary\n",
    "\n",
    "# https://careerkarma.com/blog/python-convert-list-to-dictionary/#:~:text=Converting%20a%20list%20to%20a,the%20Python%20zip()%20function.\n",
    "# https://stackoverflow.com/questions/209840/convert-two-lists-into-a-dictionary"
   ]
  },
  {
   "cell_type": "code",
   "execution_count": 29,
   "metadata": {},
   "outputs": [],
   "source": [
    "dictionary = {list1[i]: list2[i] for i in range(len(list1))}"
   ]
  },
  {
   "cell_type": "code",
   "execution_count": 30,
   "metadata": {},
   "outputs": [
    {
     "data": {
      "text/plain": [
       "{2: 26,\n",
       " 3: 61,\n",
       " 4: 89,\n",
       " 5: 104,\n",
       " 6: 129,\n",
       " 7: 175,\n",
       " 8: 141,\n",
       " 9: 115,\n",
       " 10: 63,\n",
       " 11: 67,\n",
       " 12: 30}"
      ]
     },
     "execution_count": 30,
     "metadata": {},
     "output_type": "execute_result"
    }
   ],
   "source": [
    "dictionary"
   ]
  },
  {
   "cell_type": "code",
   "execution_count": null,
   "metadata": {},
   "outputs": [],
   "source": []
  }
 ],
 "metadata": {
  "kernelspec": {
   "display_name": "Python 3",
   "language": "python",
   "name": "python3"
  },
  "language_info": {
   "codemirror_mode": {
    "name": "ipython",
    "version": 3
   },
   "file_extension": ".py",
   "mimetype": "text/x-python",
   "name": "python",
   "nbconvert_exporter": "python",
   "pygments_lexer": "ipython3",
   "version": "3.8.3"
  }
 },
 "nbformat": 4,
 "nbformat_minor": 4
}
