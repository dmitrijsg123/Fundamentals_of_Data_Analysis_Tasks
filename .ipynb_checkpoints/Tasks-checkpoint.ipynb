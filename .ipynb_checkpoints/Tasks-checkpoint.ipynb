{
 "cells": [
  {
   "cell_type": "markdown",
   "metadata": {},
   "source": [
    "## Task 1"
   ]
  },
  {
   "cell_type": "markdown",
   "metadata": {},
   "source": [
    "##### Python to take a list as input and to return a dictionary of unique items in the list as keys and the number of times each item appears as values\n",
    "##### I am using my latest golf scorecard as a list of results on each of 18 holes "
   ]
  },
  {
   "cell_type": "code",
   "execution_count": 13,
   "metadata": {},
   "outputs": [],
   "source": [
    "import numpy as np"
   ]
  },
  {
   "cell_type": "code",
   "execution_count": 14,
   "metadata": {
    "scrolled": false
   },
   "outputs": [
    {
     "name": "stdout",
     "output_type": "stream",
     "text": [
      "{'Bogey': 3, 'Par': 6, 'Q_Bogey': 2, 'T_Bogey': 2, 'D_Bogey': 4, 'Birdie': 1}\n"
     ]
    }
   ],
   "source": [
    "\n",
    "\n",
    "def Counts(my_golf_scorecard): \n",
    "   \n",
    "   # We have to create an empty dictionary first\n",
    "   count = {} \n",
    "   for i in ['Bogey', 'Bogey','Par','Par', 'Q_Bogey', 'T_Bogey', 'D_Bogey', 'Par', 'Bogey', 'Par', 'Birdie', 'Q_Bogey', 'D_Bogey', 'D_Bogey', 'Par', 'D_Bogey','Par', 'T_Bogey'] : \n",
    "\n",
    "      count[i] = count.get(i, 0) + 1        # using an in-built Python get() function\n",
    "   return count \n",
    "\n",
    " # Driver function       \n",
    "if __name__ == \"__main__\":  \n",
    "   my_golf_scorecard = ['Bogey', 'Bogey','Par','Par', 'Q_Bogey', 'T_Bogey', 'D_Bogey', 'Par', 'Bogey', 'Par', 'Birdie', 'Q_Bogey', 'D_Bogey', 'D_Bogey', 'Par', 'D_Bogey','Par', 'T_Bogey'] \n",
    "   print(Counts(my_golf_scorecard)) "
   ]
  },
  {
   "cell_type": "raw",
   "metadata": {},
   "source": [
    "\n",
    "References:\n",
    "\n",
    "Driver function           https://www.codegrepper.com/code-examples/delphi/if+__name__%3D%3D+__main__+in+python\n",
    "<br><br>  \n",
    "                          https://www.geeksforgeeks.org/what-does-the-if-__name__-__main__-do/#:~:text=Python%20files%20can%20act%20as,run%20directly%2C%20and%20not%20imported.\n",
    "    \n",
    " "
   ]
  },
  {
   "cell_type": "markdown",
   "metadata": {},
   "source": [
    "## Task 2"
   ]
  },
  {
   "cell_type": "markdown",
   "metadata": {},
   "source": [
    "##### Write a Python function called dicerolls that simulates rolling dice. The function shoud simulate randomly rolling k dice n times, keeping track of each total face value. It should then return a dictionary with the number of times each possible total face value occured.\n",
    "***"
   ]
  },
  {
   "cell_type": "code",
   "execution_count": 18,
   "metadata": {},
   "outputs": [],
   "source": [
    "# import necessary libraries\n",
    "import numpy as np\n",
    "import matplotlib.pyplot as plt\n",
    "import seaborn as sns\n",
    "%matplotlib inline\n",
    "import random"
   ]
  },
  {
   "cell_type": "code",
   "execution_count": 19,
   "metadata": {},
   "outputs": [],
   "source": [
    "# number of dice k = 2, times rolled n = 1000\n",
    "# we need to create a function that will allow us to simulate rolling 2 dice in the loop for 1000 times. \n",
    "# Then we are to append results to a list.\n",
    "\n",
    "def dicerolls(n):\n",
    "    roll_results = []\n",
    "    while n < 1001:\n",
    "      dice_1 = np.random.randint(1,7) \n",
    "      dice_2 = np.random.randint(1,7) \n",
    "      dice_total = dice_1 + dice_2\n",
    "      roll_results.append(dice_total)\n",
    "    return roll_results"
   ]
  },
  {
   "cell_type": "markdown",
   "metadata": {},
   "source": [
    "#### Converting our array into a list\n",
    "Reference:  https://www.journaldev.com/32797/python-convert-numpy-array-to-list"
   ]
  },
  {
   "cell_type": "code",
   "execution_count": 20,
   "metadata": {
    "scrolled": true
   },
   "outputs": [
    {
     "ename": "NameError",
     "evalue": "name 'dice_total' is not defined",
     "output_type": "error",
     "traceback": [
      "\u001b[1;31m---------------------------------------------------------------------------\u001b[0m",
      "\u001b[1;31mNameError\u001b[0m                                 Traceback (most recent call last)",
      "\u001b[1;32m<ipython-input-20-de376e952b42>\u001b[0m in \u001b[0;36m<module>\u001b[1;34m\u001b[0m\n\u001b[1;32m----> 1\u001b[1;33m \u001b[0mdice_total_list\u001b[0m \u001b[1;33m=\u001b[0m \u001b[0mdice_total\u001b[0m\u001b[1;33m.\u001b[0m\u001b[0mtolist\u001b[0m\u001b[1;33m(\u001b[0m\u001b[1;33m)\u001b[0m\u001b[1;33m\u001b[0m\u001b[1;33m\u001b[0m\u001b[0m\n\u001b[0m\u001b[0;32m      2\u001b[0m \u001b[0mprint\u001b[0m\u001b[1;33m(\u001b[0m\u001b[1;34mf'Dice_total: {dice_total_list}'\u001b[0m\u001b[1;33m)\u001b[0m\u001b[1;33m\u001b[0m\u001b[1;33m\u001b[0m\u001b[0m\n",
      "\u001b[1;31mNameError\u001b[0m: name 'dice_total' is not defined"
     ]
    }
   ],
   "source": [
    "dice_total_list = dice_total.tolist()\n",
    "print(f'Dice_total: {dice_total_list}')"
   ]
  },
  {
   "cell_type": "code",
   "execution_count": 21,
   "metadata": {},
   "outputs": [],
   "source": [
    "# creating an empty list that will store the 2nd value - amount of times each sum occured \n",
    "list2 = []"
   ]
  },
  {
   "cell_type": "code",
   "execution_count": 22,
   "metadata": {},
   "outputs": [
    {
     "ename": "NameError",
     "evalue": "name 'dice_total_list' is not defined",
     "output_type": "error",
     "traceback": [
      "\u001b[1;31m---------------------------------------------------------------------------\u001b[0m",
      "\u001b[1;31mNameError\u001b[0m                                 Traceback (most recent call last)",
      "\u001b[1;32m<ipython-input-22-bfb85301fb22>\u001b[0m in \u001b[0;36m<module>\u001b[1;34m\u001b[0m\n\u001b[1;32m----> 1\u001b[1;33m \u001b[0mtwo\u001b[0m \u001b[1;33m=\u001b[0m \u001b[0mdice_total_list\u001b[0m\u001b[1;33m.\u001b[0m\u001b[0mcount\u001b[0m\u001b[1;33m(\u001b[0m\u001b[1;36m2\u001b[0m\u001b[1;33m)\u001b[0m\u001b[1;33m\u001b[0m\u001b[1;33m\u001b[0m\u001b[0m\n\u001b[0m\u001b[0;32m      2\u001b[0m \u001b[0mthree\u001b[0m \u001b[1;33m=\u001b[0m \u001b[0mdice_total_list\u001b[0m\u001b[1;33m.\u001b[0m\u001b[0mcount\u001b[0m\u001b[1;33m(\u001b[0m\u001b[1;36m3\u001b[0m\u001b[1;33m)\u001b[0m\u001b[1;33m\u001b[0m\u001b[1;33m\u001b[0m\u001b[0m\n\u001b[0;32m      3\u001b[0m \u001b[0mfour\u001b[0m \u001b[1;33m=\u001b[0m \u001b[0mdice_total_list\u001b[0m\u001b[1;33m.\u001b[0m\u001b[0mcount\u001b[0m\u001b[1;33m(\u001b[0m\u001b[1;36m4\u001b[0m\u001b[1;33m)\u001b[0m\u001b[1;33m\u001b[0m\u001b[1;33m\u001b[0m\u001b[0m\n\u001b[0;32m      4\u001b[0m \u001b[0mfive\u001b[0m \u001b[1;33m=\u001b[0m \u001b[0mdice_total_list\u001b[0m\u001b[1;33m.\u001b[0m\u001b[0mcount\u001b[0m\u001b[1;33m(\u001b[0m\u001b[1;36m5\u001b[0m\u001b[1;33m)\u001b[0m\u001b[1;33m\u001b[0m\u001b[1;33m\u001b[0m\u001b[0m\n\u001b[0;32m      5\u001b[0m \u001b[0msix\u001b[0m \u001b[1;33m=\u001b[0m \u001b[0mdice_total_list\u001b[0m\u001b[1;33m.\u001b[0m\u001b[0mcount\u001b[0m\u001b[1;33m(\u001b[0m\u001b[1;36m6\u001b[0m\u001b[1;33m)\u001b[0m\u001b[1;33m\u001b[0m\u001b[1;33m\u001b[0m\u001b[0m\n",
      "\u001b[1;31mNameError\u001b[0m: name 'dice_total_list' is not defined"
     ]
    }
   ],
   "source": [
    "two = dice_total_list.count(2)\n",
    "three = dice_total_list.count(3)\n",
    "four = dice_total_list.count(4)\n",
    "five = dice_total_list.count(5)\n",
    "six = dice_total_list.count(6)\n",
    "seven = dice_total_list.count(7)\n",
    "eight = dice_total_list.count(8)\n",
    "nine = dice_total_list.count(9)\n",
    "ten = dice_total_list.count(10)\n",
    "eleven = dice_total_list.count(11)\n",
    "twelve = dice_total_list.count(12)"
   ]
  },
  {
   "cell_type": "code",
   "execution_count": 23,
   "metadata": {},
   "outputs": [],
   "source": [
    "# creating the 1st list that will store the 1st value - all the possible sums of 2 dice\n",
    "list1 = [2,3,4,5,6,7,8,9,10,11,12]"
   ]
  },
  {
   "cell_type": "code",
   "execution_count": 24,
   "metadata": {},
   "outputs": [
    {
     "ename": "NameError",
     "evalue": "name 'two' is not defined",
     "output_type": "error",
     "traceback": [
      "\u001b[1;31m---------------------------------------------------------------------------\u001b[0m",
      "\u001b[1;31mNameError\u001b[0m                                 Traceback (most recent call last)",
      "\u001b[1;32m<ipython-input-24-1b1b94ad3784>\u001b[0m in \u001b[0;36m<module>\u001b[1;34m\u001b[0m\n\u001b[0;32m      2\u001b[0m \u001b[1;31m# https://stackoverflow.com/questions/20196159/how-to-append-multiple-values-to-a-list-in-python#:~:text=extend%20to%20extend%20the%20list,provides%20a%20sequence%20of%20values.&text=So%20you%20can%20use%20list,()%20to%20append%20multiple%20values.\u001b[0m\u001b[1;33m\u001b[0m\u001b[1;33m\u001b[0m\u001b[1;33m\u001b[0m\u001b[0m\n\u001b[0;32m      3\u001b[0m \u001b[1;33m\u001b[0m\u001b[0m\n\u001b[1;32m----> 4\u001b[1;33m \u001b[0mlist2\u001b[0m\u001b[1;33m.\u001b[0m\u001b[0mextend\u001b[0m\u001b[1;33m(\u001b[0m\u001b[1;33m(\u001b[0m\u001b[0mtwo\u001b[0m\u001b[1;33m,\u001b[0m\u001b[0mthree\u001b[0m\u001b[1;33m,\u001b[0m\u001b[0mfour\u001b[0m\u001b[1;33m,\u001b[0m\u001b[0mfive\u001b[0m\u001b[1;33m,\u001b[0m\u001b[0msix\u001b[0m\u001b[1;33m,\u001b[0m\u001b[0mseven\u001b[0m\u001b[1;33m,\u001b[0m\u001b[0meight\u001b[0m\u001b[1;33m,\u001b[0m\u001b[0mnine\u001b[0m\u001b[1;33m,\u001b[0m\u001b[0mten\u001b[0m\u001b[1;33m,\u001b[0m\u001b[0meleven\u001b[0m\u001b[1;33m,\u001b[0m\u001b[0mtwelve\u001b[0m\u001b[1;33m)\u001b[0m\u001b[1;33m)\u001b[0m\u001b[1;33m\u001b[0m\u001b[1;33m\u001b[0m\u001b[0m\n\u001b[0m",
      "\u001b[1;31mNameError\u001b[0m: name 'two' is not defined"
     ]
    }
   ],
   "source": [
    "# using .extend() function to add values to list2\n",
    "# https://stackoverflow.com/questions/20196159/how-to-append-multiple-values-to-a-list-in-python#:~:text=extend%20to%20extend%20the%20list,provides%20a%20sequence%20of%20values.&text=So%20you%20can%20use%20list,()%20to%20append%20multiple%20values.\n",
    "\n",
    "list2.extend((two,three,four,five,six,seven,eight,nine,ten,eleven,twelve))"
   ]
  },
  {
   "cell_type": "code",
   "execution_count": 25,
   "metadata": {},
   "outputs": [
    {
     "data": {
      "text/plain": [
       "[]"
      ]
     },
     "execution_count": 25,
     "metadata": {},
     "output_type": "execute_result"
    }
   ],
   "source": [
    "list2"
   ]
  },
  {
   "cell_type": "raw",
   "metadata": {},
   "source": [
    "We combine data from list1 and list2 into one single dictionary\n",
    "\n",
    "# https://careerkarma.com/blog/python-convert-list-to-dictionary/#:~:text=Converting%20a%20list%20to%20a,the%20Python%20zip()%20function.\n",
    "# https://stackoverflow.com/questions/209840/convert-two-lists-into-a-dictionary"
   ]
  },
  {
   "cell_type": "code",
   "execution_count": 26,
   "metadata": {},
   "outputs": [
    {
     "ename": "IndexError",
     "evalue": "list index out of range",
     "output_type": "error",
     "traceback": [
      "\u001b[1;31m---------------------------------------------------------------------------\u001b[0m",
      "\u001b[1;31mIndexError\u001b[0m                                Traceback (most recent call last)",
      "\u001b[1;32m<ipython-input-26-bf6ae4f80c37>\u001b[0m in \u001b[0;36m<module>\u001b[1;34m\u001b[0m\n\u001b[1;32m----> 1\u001b[1;33m \u001b[0mdictionary\u001b[0m \u001b[1;33m=\u001b[0m \u001b[1;33m{\u001b[0m\u001b[0mlist1\u001b[0m\u001b[1;33m[\u001b[0m\u001b[0mi\u001b[0m\u001b[1;33m]\u001b[0m\u001b[1;33m:\u001b[0m \u001b[0mlist2\u001b[0m\u001b[1;33m[\u001b[0m\u001b[0mi\u001b[0m\u001b[1;33m]\u001b[0m \u001b[1;32mfor\u001b[0m \u001b[0mi\u001b[0m \u001b[1;32min\u001b[0m \u001b[0mrange\u001b[0m\u001b[1;33m(\u001b[0m\u001b[0mlen\u001b[0m\u001b[1;33m(\u001b[0m\u001b[0mlist1\u001b[0m\u001b[1;33m)\u001b[0m\u001b[1;33m)\u001b[0m\u001b[1;33m}\u001b[0m\u001b[1;33m\u001b[0m\u001b[1;33m\u001b[0m\u001b[0m\n\u001b[0m",
      "\u001b[1;32m<ipython-input-26-bf6ae4f80c37>\u001b[0m in \u001b[0;36m<dictcomp>\u001b[1;34m(.0)\u001b[0m\n\u001b[1;32m----> 1\u001b[1;33m \u001b[0mdictionary\u001b[0m \u001b[1;33m=\u001b[0m \u001b[1;33m{\u001b[0m\u001b[0mlist1\u001b[0m\u001b[1;33m[\u001b[0m\u001b[0mi\u001b[0m\u001b[1;33m]\u001b[0m\u001b[1;33m:\u001b[0m \u001b[0mlist2\u001b[0m\u001b[1;33m[\u001b[0m\u001b[0mi\u001b[0m\u001b[1;33m]\u001b[0m \u001b[1;32mfor\u001b[0m \u001b[0mi\u001b[0m \u001b[1;32min\u001b[0m \u001b[0mrange\u001b[0m\u001b[1;33m(\u001b[0m\u001b[0mlen\u001b[0m\u001b[1;33m(\u001b[0m\u001b[0mlist1\u001b[0m\u001b[1;33m)\u001b[0m\u001b[1;33m)\u001b[0m\u001b[1;33m}\u001b[0m\u001b[1;33m\u001b[0m\u001b[1;33m\u001b[0m\u001b[0m\n\u001b[0m",
      "\u001b[1;31mIndexError\u001b[0m: list index out of range"
     ]
    }
   ],
   "source": [
    "dictionary = {list1[i]: list2[i] for i in range(len(list1))}"
   ]
  },
  {
   "cell_type": "markdown",
   "metadata": {},
   "source": [
    "dictionary"
   ]
  },
  {
   "cell_type": "code",
   "execution_count": null,
   "metadata": {},
   "outputs": [],
   "source": []
  },
  {
   "cell_type": "markdown",
   "metadata": {},
   "source": [
    "## Task 3"
   ]
  },
  {
   "cell_type": "markdown",
   "metadata": {},
   "source": [
    "<b>Write some python code that simulates flipping a coin 100 times. Then run this code 1,000 times, keeping track of the number of heads in each of the 1,000 simulations. Select an appropriate plot to depict the resulting list of 1,000 numbers, showing that it roughly follows a bell-shaped curve. You should explain your work in a Markdown cell above the code.</b>"
   ]
  },
  {
   "cell_type": "markdown",
   "metadata": {},
   "source": [
    "<i>Before we start writing actual code, let us do some plotting using binomial() function from the numpy.random package</i>"
   ]
  },
  {
   "cell_type": "markdown",
   "metadata": {},
   "source": [
    " Random.binomial() function draws samples from a binomial distribution. It describes outcomes of binary scenarios, so, toss of a coin that will always be heads or tails, will be ideal.\n",
    "It has 3 parameters: number of trials, probability of occurence in each one, shape of the returned array.\n",
    "\n",
    "They must meet the following three criteria:<br>\n",
    "1) The number of observations or trials is fixed. <br>\n",
    "2) Each observation or trial is independent, that is, none of your trials have an effect on the probability of the next trial.<br>\n",
    "3) The probability of success is exactly the same from one trial to another.<br>\n",
    "In our case, we meet all 3 parameters ideally.\n",
    "\n",
    "Reference: \n",
    "<i>Random.binomial() function https://www.statisticshowto.com/probability-and-statistics/binomial-theorem/binomial-distribution-formula/#whatis Binomial distribution https://www.w3schools.com/python/numpy_random_binomial.asp</i>\n"
   ]
  },
  {
   "cell_type": "code",
   "execution_count": 148,
   "metadata": {},
   "outputs": [
    {
     "data": {
      "image/png": "[encoded data removed]",
      "text/plain": [
       "<Figure size 432x288 with 1 Axes>"
      ]
     },
     "metadata": {
      "needs_background": "light"
     },
     "output_type": "display_data"
    }
   ],
   "source": [
    "# This is a way of simulating a probability test of getting heads in a coin toss \n",
    "\n",
    "import numpy as np\n",
    "from numpy import random\n",
    "import matplotlib.pyplot as plt\n",
    "%matplotlib inline\n",
    "import seaborn as sns\n",
    "# test - probability of getting heads in a coin toss, tossed 100 times.\n",
    "# Initializing the parameters 'number of trials' and 'probability of success'\n",
    "# 1st parameter - number of trials - 100\n",
    "# 2nd parameter - probability of success - 1/2 = 0.5\n",
    "# test run 1000 times\n",
    "bindist = np.random.binomial(100,0.5,1000)\n",
    "plt.hist(bindist);"
   ]
  },
  {
   "cell_type": "code",
   "execution_count": 149,
   "metadata": {},
   "outputs": [
    {
     "data": {
      "image/png": "[encoded data removed]",
      "text/plain": [
       "<Figure size 432x288 with 1 Axes>"
      ]
     },
     "metadata": {
      "needs_background": "light"
     },
     "output_type": "display_data"
    }
   ],
   "source": [
    "# Let us plot the same parameters on the line \n",
    "bindist =  sns.distplot(random.binomial(n=100, p=0.5, size=1000), hist=False)"
   ]
  },
  {
   "cell_type": "markdown",
   "metadata": {},
   "source": [
    "As we can see, the resulting curve is very close to the bell-shaped curve indeed.\n",
    "*****"
   ]
  },
  {
   "cell_type": "markdown",
   "metadata": {},
   "source": [
    "<b>Now let us try and write a code that would simulate flipping a coin chosen amount of time.</b>"
   ]
  },
  {
   "cell_type": "code",
   "execution_count": 139,
   "metadata": {},
   "outputs": [],
   "source": [
    "import numpy as np  # importing numpy module\n",
    "import random # Importing Numpy's random package\n",
    "\n",
    "def coin_toss(flips): #Creating a function with an argument \"number of flips\" \n",
    "    \n",
    "# There are 2 possible scenarios - heads or tails. \n",
    "\n",
    "    heads = 0           # we only need to keep track of number of heads. Creating a running total variable\n",
    "    for i in range(flips):   # using for loop to iterate through the range \n",
    "        rand = random.randint(0,1)   # generating a variable equal to one of the two equally possible random outcomes.\n",
    "        # 0 is heads and 1 is tails.\n",
    "        if rand == 0:   # if outcome of rand is 0 - we increment to the total value of heads \n",
    "            heads += 1                   \n",
    "    return(heads)  # return the result of the total number of heads\n",
    "    \n",
    "        \n",
    "# References: Python tutorial: calculating a running total - https://www.youtube.com/watch?v=bkpG5jmPXs4\n",
    "# Using a loop to keep the running total   https://www.youtube.com/watch?v=prNzO_vtPvA\n",
    "# https://whiscardz.wordpress.com/2015/10/05/python-keep-running-total-in-a-for-loop/"
   ]
  },
  {
   "cell_type": "code",
   "execution_count": 140,
   "metadata": {},
   "outputs": [
    {
     "data": {
      "text/plain": [
       "57"
      ]
     },
     "execution_count": 140,
     "metadata": {},
     "output_type": "execute_result"
    }
   ],
   "source": [
    "# adding argument to our function - amount of coin flips is 100.\n",
    "coin_toss(100)"
   ]
  },
  {
   "cell_type": "markdown",
   "metadata": {},
   "source": [
    "<b>Now we need to come up with a function that will run this simulation 1000 times</b> "
   ]
  },
  {
   "cell_type": "markdown",
   "metadata": {},
   "source": [
    "One of the ways to do it is to create an empty list, iterate our range (1000), run our previously created function <span style=\"color:blue\">coin_toss</span> and append its results to our list.<br>\n",
    "\n",
    "<i>Reference: Converting printed output of function to a list<br>\n",
    "https://stackoverflow.com/questions/35932579/converting-printed-output-of-function-to-a-list </i>"
   ]
  },
  {
   "cell_type": "code",
   "execution_count": 141,
   "metadata": {},
   "outputs": [],
   "source": [
    "list = []\n",
    "\n",
    "for i in range(1000):\n",
    "    list.append(coin_toss(100))"
   ]
  },
  {
   "cell_type": "code",
   "execution_count": 142,
   "metadata": {},
   "outputs": [
    {
     "data": {
      "text/plain": [
       "[39,\n",
       " 45,\n",
       " 47,\n",
       " 49,\n",
       " 51,\n",
       " 45,\n",
       " 55,\n",
       " 50,\n",
       " 51,\n",
       " 51,\n",
       " 59,\n",
       " 49,\n",
       " 53,\n",
       " 56,\n",
       " 43,\n",
       " 53,\n",
       " 57,\n",
       " 52,\n",
       " 44,\n",
       " 51,\n",
       " 49,\n",
       " 57,\n",
       " 60,\n",
       " 51,\n",
       " 44,\n",
       " 58,\n",
       " 52,\n",
       " 43,\n",
       " 51,\n",
       " 48,\n",
       " 47,\n",
       " 52,\n",
       " 55,\n",
       " 57,\n",
       " 48,\n",
       " 52,\n",
       " 63,\n",
       " 43,\n",
       " 48,\n",
       " 46,\n",
       " 52,\n",
       " 51,\n",
       " 48,\n",
       " 50,\n",
       " 55,\n",
       " 54,\n",
       " 48,\n",
       " 56,\n",
       " 53,\n",
       " 53,\n",
       " 48,\n",
       " 49,\n",
       " 48,\n",
       " 47,\n",
       " 48,\n",
       " 49,\n",
       " 63,\n",
       " 57,\n",
       " 53,\n",
       " 47,\n",
       " 51,\n",
       " 43,\n",
       " 49,\n",
       " 49,\n",
       " 53,\n",
       " 56,\n",
       " 48,\n",
       " 52,\n",
       " 54,\n",
       " 58,\n",
       " 49,\n",
       " 48,\n",
       " 44,\n",
       " 53,\n",
       " 44,\n",
       " 61,\n",
       " 47,\n",
       " 37,\n",
       " 46,\n",
       " 53,\n",
       " 49,\n",
       " 46,\n",
       " 48,\n",
       " 42,\n",
       " 49,\n",
       " 53,\n",
       " 46,\n",
       " 52,\n",
       " 57,\n",
       " 52,\n",
       " 50,\n",
       " 46,\n",
       " 56,\n",
       " 49,\n",
       " 46,\n",
       " 45,\n",
       " 43,\n",
       " 53,\n",
       " 58,\n",
       " 49,\n",
       " 51,\n",
       " 54,\n",
       " 43,\n",
       " 52,\n",
       " 50,\n",
       " 54,\n",
       " 53,\n",
       " 54,\n",
       " 48,\n",
       " 56,\n",
       " 51,\n",
       " 51,\n",
       " 49,\n",
       " 56,\n",
       " 52,\n",
       " 41,\n",
       " 49,\n",
       " 56,\n",
       " 54,\n",
       " 39,\n",
       " 49,\n",
       " 45,\n",
       " 57,\n",
       " 44,\n",
       " 40,\n",
       " 47,\n",
       " 51,\n",
       " 56,\n",
       " 42,\n",
       " 40,\n",
       " 54,\n",
       " 52,\n",
       " 50,\n",
       " 49,\n",
       " 50,\n",
       " 51,\n",
       " 48,\n",
       " 56,\n",
       " 52,\n",
       " 47,\n",
       " 56,\n",
       " 46,\n",
       " 47,\n",
       " 49,\n",
       " 52,\n",
       " 43,\n",
       " 59,\n",
       " 37,\n",
       " 56,\n",
       " 45,\n",
       " 52,\n",
       " 55,\n",
       " 42,\n",
       " 47,\n",
       " 39,\n",
       " 48,\n",
       " 48,\n",
       " 46,\n",
       " 51,\n",
       " 49,\n",
       " 51,\n",
       " 57,\n",
       " 49,\n",
       " 54,\n",
       " 49,\n",
       " 52,\n",
       " 52,\n",
       " 55,\n",
       " 48,\n",
       " 46,\n",
       " 50,\n",
       " 38,\n",
       " 55,\n",
       " 53,\n",
       " 50,\n",
       " 47,\n",
       " 50,\n",
       " 49,\n",
       " 50,\n",
       " 49,\n",
       " 50,\n",
       " 58,\n",
       " 50,\n",
       " 46,\n",
       " 52,\n",
       " 46,\n",
       " 49,\n",
       " 57,\n",
       " 49,\n",
       " 56,\n",
       " 57,\n",
       " 51,\n",
       " 47,\n",
       " 53,\n",
       " 55,\n",
       " 39,\n",
       " 53,\n",
       " 57,\n",
       " 51,\n",
       " 38,\n",
       " 53,\n",
       " 55,\n",
       " 50,\n",
       " 44,\n",
       " 59,\n",
       " 49,\n",
       " 60,\n",
       " 46,\n",
       " 49,\n",
       " 42,\n",
       " 59,\n",
       " 49,\n",
       " 55,\n",
       " 58,\n",
       " 57,\n",
       " 49,\n",
       " 53,\n",
       " 54,\n",
       " 53,\n",
       " 58,\n",
       " 51,\n",
       " 43,\n",
       " 50,\n",
       " 40,\n",
       " 43,\n",
       " 46,\n",
       " 52,\n",
       " 50,\n",
       " 44,\n",
       " 51,\n",
       " 53,\n",
       " 48,\n",
       " 50,\n",
       " 43,\n",
       " 56,\n",
       " 54,\n",
       " 59,\n",
       " 52,\n",
       " 51,\n",
       " 51,\n",
       " 55,\n",
       " 41,\n",
       " 53,\n",
       " 57,\n",
       " 53,\n",
       " 52,\n",
       " 39,\n",
       " 53,\n",
       " 43,\n",
       " 55,\n",
       " 51,\n",
       " 47,\n",
       " 45,\n",
       " 62,\n",
       " 59,\n",
       " 50,\n",
       " 61,\n",
       " 60,\n",
       " 46,\n",
       " 47,\n",
       " 45,\n",
       " 49,\n",
       " 40,\n",
       " 55,\n",
       " 46,\n",
       " 49,\n",
       " 44,\n",
       " 48,\n",
       " 48,\n",
       " 47,\n",
       " 52,\n",
       " 59,\n",
       " 54,\n",
       " 42,\n",
       " 52,\n",
       " 45,\n",
       " 51,\n",
       " 51,\n",
       " 48,\n",
       " 53,\n",
       " 50,\n",
       " 49,\n",
       " 52,\n",
       " 47,\n",
       " 63,\n",
       " 46,\n",
       " 57,\n",
       " 52,\n",
       " 46,\n",
       " 46,\n",
       " 42,\n",
       " 48,\n",
       " 41,\n",
       " 48,\n",
       " 54,\n",
       " 51,\n",
       " 46,\n",
       " 46,\n",
       " 44,\n",
       " 54,\n",
       " 40,\n",
       " 56,\n",
       " 50,\n",
       " 61,\n",
       " 47,\n",
       " 50,\n",
       " 56,\n",
       " 49,\n",
       " 60,\n",
       " 53,\n",
       " 52,\n",
       " 48,\n",
       " 60,\n",
       " 44,\n",
       " 58,\n",
       " 47,\n",
       " 46,\n",
       " 37,\n",
       " 43,\n",
       " 51,\n",
       " 47,\n",
       " 39,\n",
       " 55,\n",
       " 52,\n",
       " 60,\n",
       " 48,\n",
       " 51,\n",
       " 50,\n",
       " 47,\n",
       " 46,\n",
       " 52,\n",
       " 55,\n",
       " 48,\n",
       " 52,\n",
       " 53,\n",
       " 58,\n",
       " 51,\n",
       " 49,\n",
       " 51,\n",
       " 51,\n",
       " 43,\n",
       " 57,\n",
       " 57,\n",
       " 40,\n",
       " 59,\n",
       " 44,\n",
       " 57,\n",
       " 51,\n",
       " 54,\n",
       " 47,\n",
       " 50,\n",
       " 50,\n",
       " 47,\n",
       " 51,\n",
       " 55,\n",
       " 49,\n",
       " 48,\n",
       " 49,\n",
       " 50,\n",
       " 52,\n",
       " 46,\n",
       " 51,\n",
       " 50,\n",
       " 50,\n",
       " 47,\n",
       " 53,\n",
       " 48,\n",
       " 47,\n",
       " 50,\n",
       " 49,\n",
       " 56,\n",
       " 41,\n",
       " 50,\n",
       " 43,\n",
       " 60,\n",
       " 42,\n",
       " 44,\n",
       " 47,\n",
       " 53,\n",
       " 49,\n",
       " 52,\n",
       " 59,\n",
       " 48,\n",
       " 48,\n",
       " 48,\n",
       " 51,\n",
       " 59,\n",
       " 51,\n",
       " 53,\n",
       " 58,\n",
       " 49,\n",
       " 56,\n",
       " 53,\n",
       " 52,\n",
       " 50,\n",
       " 54,\n",
       " 49,\n",
       " 45,\n",
       " 49,\n",
       " 48,\n",
       " 42,\n",
       " 38,\n",
       " 46,\n",
       " 56,\n",
       " 54,\n",
       " 55,\n",
       " 49,\n",
       " 49,\n",
       " 54,\n",
       " 50,\n",
       " 54,\n",
       " 45,\n",
       " 57,\n",
       " 53,\n",
       " 53,\n",
       " 46,\n",
       " 51,\n",
       " 49,\n",
       " 53,\n",
       " 51,\n",
       " 53,\n",
       " 49,\n",
       " 52,\n",
       " 54,\n",
       " 51,\n",
       " 56,\n",
       " 53,\n",
       " 55,\n",
       " 51,\n",
       " 45,\n",
       " 51,\n",
       " 43,\n",
       " 42,\n",
       " 41,\n",
       " 46,\n",
       " 40,\n",
       " 59,\n",
       " 51,\n",
       " 56,\n",
       " 52,\n",
       " 50,\n",
       " 53,\n",
       " 54,\n",
       " 45,\n",
       " 54,\n",
       " 53,\n",
       " 52,\n",
       " 45,\n",
       " 44,\n",
       " 54,\n",
       " 49,\n",
       " 43,\n",
       " 52,\n",
       " 50,\n",
       " 54,\n",
       " 48,\n",
       " 50,\n",
       " 55,\n",
       " 54,\n",
       " 49,\n",
       " 41,\n",
       " 45,\n",
       " 53,\n",
       " 50,\n",
       " 48,\n",
       " 50,\n",
       " 44,\n",
       " 52,\n",
       " 47,\n",
       " 51,\n",
       " 59,\n",
       " 51,\n",
       " 47,\n",
       " 44,\n",
       " 47,\n",
       " 51,\n",
       " 48,\n",
       " 64,\n",
       " 59,\n",
       " 57,\n",
       " 48,\n",
       " 60,\n",
       " 47,\n",
       " 52,\n",
       " 44,\n",
       " 51,\n",
       " 47,\n",
       " 47,\n",
       " 51,\n",
       " 55,\n",
       " 50,\n",
       " 50,\n",
       " 48,\n",
       " 46,\n",
       " 41,\n",
       " 46,\n",
       " 53,\n",
       " 48,\n",
       " 54,\n",
       " 45,\n",
       " 39,\n",
       " 53,\n",
       " 45,\n",
       " 55,\n",
       " 53,\n",
       " 48,\n",
       " 47,\n",
       " 51,\n",
       " 48,\n",
       " 54,\n",
       " 45,\n",
       " 51,\n",
       " 41,\n",
       " 60,\n",
       " 40,\n",
       " 55,\n",
       " 53,\n",
       " 48,\n",
       " 58,\n",
       " 52,\n",
       " 59,\n",
       " 49,\n",
       " 47,\n",
       " 45,\n",
       " 59,\n",
       " 34,\n",
       " 51,\n",
       " 46,\n",
       " 54,\n",
       " 48,\n",
       " 50,\n",
       " 49,\n",
       " 43,\n",
       " 44,\n",
       " 52,\n",
       " 45,\n",
       " 48,\n",
       " 45,\n",
       " 56,\n",
       " 56,\n",
       " 55,\n",
       " 51,\n",
       " 46,\n",
       " 50,\n",
       " 51,\n",
       " 49,\n",
       " 45,\n",
       " 52,\n",
       " 50,\n",
       " 55,\n",
       " 54,\n",
       " 53,\n",
       " 50,\n",
       " 47,\n",
       " 47,\n",
       " 45,\n",
       " 50,\n",
       " 49,\n",
       " 52,\n",
       " 46,\n",
       " 42,\n",
       " 45,\n",
       " 54,\n",
       " 51,\n",
       " 48,\n",
       " 41,\n",
       " 44,\n",
       " 45,\n",
       " 50,\n",
       " 50,\n",
       " 42,\n",
       " 49,\n",
       " 60,\n",
       " 46,\n",
       " 46,\n",
       " 52,\n",
       " 54,\n",
       " 54,\n",
       " 52,\n",
       " 44,\n",
       " 50,\n",
       " 52,\n",
       " 45,\n",
       " 51,\n",
       " 49,\n",
       " 48,\n",
       " 38,\n",
       " 56,\n",
       " 50,\n",
       " 56,\n",
       " 60,\n",
       " 51,\n",
       " 49,\n",
       " 46,\n",
       " 47,\n",
       " 36,\n",
       " 45,\n",
       " 52,\n",
       " 51,\n",
       " 51,\n",
       " 45,\n",
       " 56,\n",
       " 59,\n",
       " 52,\n",
       " 54,\n",
       " 44,\n",
       " 47,\n",
       " 49,\n",
       " 48,\n",
       " 60,\n",
       " 46,\n",
       " 56,\n",
       " 48,\n",
       " 46,\n",
       " 46,\n",
       " 48,\n",
       " 54,\n",
       " 50,\n",
       " 50,\n",
       " 57,\n",
       " 51,\n",
       " 52,\n",
       " 52,\n",
       " 50,\n",
       " 48,\n",
       " 49,\n",
       " 48,\n",
       " 58,\n",
       " 46,\n",
       " 50,\n",
       " 48,\n",
       " 54,\n",
       " 56,\n",
       " 62,\n",
       " 53,\n",
       " 40,\n",
       " 48,\n",
       " 54,\n",
       " 46,\n",
       " 49,\n",
       " 53,\n",
       " 42,\n",
       " 51,\n",
       " 44,\n",
       " 46,\n",
       " 43,\n",
       " 50,\n",
       " 46,\n",
       " 52,\n",
       " 47,\n",
       " 47,\n",
       " 41,\n",
       " 55,\n",
       " 45,\n",
       " 48,\n",
       " 45,\n",
       " 42,\n",
       " 53,\n",
       " 55,\n",
       " 53,\n",
       " 60,\n",
       " 46,\n",
       " 47,\n",
       " 52,\n",
       " 43,\n",
       " 41,\n",
       " 52,\n",
       " 46,\n",
       " 51,\n",
       " 48,\n",
       " 55,\n",
       " 44,\n",
       " 53,\n",
       " 53,\n",
       " 48,\n",
       " 53,\n",
       " 52,\n",
       " 53,\n",
       " 49,\n",
       " 58,\n",
       " 37,\n",
       " 52,\n",
       " 46,\n",
       " 46,\n",
       " 58,\n",
       " 48,\n",
       " 55,\n",
       " 56,\n",
       " 42,\n",
       " 41,\n",
       " 49,\n",
       " 51,\n",
       " 50,\n",
       " 47,\n",
       " 48,\n",
       " 55,\n",
       " 51,\n",
       " 46,\n",
       " 51,\n",
       " 58,\n",
       " 56,\n",
       " 52,\n",
       " 50,\n",
       " 42,\n",
       " 54,\n",
       " 43,\n",
       " 45,\n",
       " 52,\n",
       " 48,\n",
       " 50,\n",
       " 51,\n",
       " 59,\n",
       " 48,\n",
       " 58,\n",
       " 55,\n",
       " 53,\n",
       " 41,\n",
       " 46,\n",
       " 52,\n",
       " 41,\n",
       " 56,\n",
       " 52,\n",
       " 51,\n",
       " 47,\n",
       " 48,\n",
       " 61,\n",
       " 53,\n",
       " 50,\n",
       " 53,\n",
       " 47,\n",
       " 45,\n",
       " 54,\n",
       " 51,\n",
       " 50,\n",
       " 52,\n",
       " 43,\n",
       " 55,\n",
       " 40,\n",
       " 53,\n",
       " 45,\n",
       " 47,\n",
       " 54,\n",
       " 51,\n",
       " 46,\n",
       " 46,\n",
       " 52,\n",
       " 54,\n",
       " 56,\n",
       " 62,\n",
       " 47,\n",
       " 48,\n",
       " 50,\n",
       " 51,\n",
       " 51,\n",
       " 55,\n",
       " 48,\n",
       " 54,\n",
       " 50,\n",
       " 48,\n",
       " 49,\n",
       " 45,\n",
       " 44,\n",
       " 53,\n",
       " 54,\n",
       " 58,\n",
       " 46,\n",
       " 50,\n",
       " 54,\n",
       " 49,\n",
       " 50,\n",
       " 50,\n",
       " 51,\n",
       " 53,\n",
       " 48,\n",
       " 49,\n",
       " 47,\n",
       " 42,\n",
       " 43,\n",
       " 53,\n",
       " 56,\n",
       " 50,\n",
       " 51,\n",
       " 52,\n",
       " 65,\n",
       " 52,\n",
       " 47,\n",
       " 52,\n",
       " 49,\n",
       " 53,\n",
       " 56,\n",
       " 46,\n",
       " 59,\n",
       " 46,\n",
       " 44,\n",
       " 49,\n",
       " 47,\n",
       " 55,\n",
       " 52,\n",
       " 46,\n",
       " 43,\n",
       " 50,\n",
       " 44,\n",
       " 60,\n",
       " 55,\n",
       " 52,\n",
       " 52,\n",
       " 49,\n",
       " 36,\n",
       " 52,\n",
       " 64,\n",
       " 52,\n",
       " 49,\n",
       " 44,\n",
       " 55,\n",
       " 40,\n",
       " 53,\n",
       " 47,\n",
       " 46,\n",
       " 35,\n",
       " 44,\n",
       " 50,\n",
       " 48,\n",
       " 55,\n",
       " 43,\n",
       " 49,\n",
       " 43,\n",
       " 48,\n",
       " 49,\n",
       " 63,\n",
       " 47,\n",
       " 55,\n",
       " 48,\n",
       " 46,\n",
       " 56,\n",
       " 53,\n",
       " 46,\n",
       " 46,\n",
       " 55,\n",
       " 40,\n",
       " 60,\n",
       " 49,\n",
       " 54,\n",
       " 49,\n",
       " 51,\n",
       " 56,\n",
       " 45,\n",
       " 56,\n",
       " 47,\n",
       " 56,\n",
       " 52,\n",
       " 40,\n",
       " 52,\n",
       " 53,\n",
       " 45,\n",
       " 50,\n",
       " 50,\n",
       " 58,\n",
       " 53,\n",
       " 56,\n",
       " 47,\n",
       " 42,\n",
       " 58,\n",
       " 57,\n",
       " 52,\n",
       " 49,\n",
       " 57,\n",
       " 54,\n",
       " 56,\n",
       " 55,\n",
       " 43,\n",
       " 54,\n",
       " 51,\n",
       " 51,\n",
       " 47,\n",
       " 42,\n",
       " 49,\n",
       " 60,\n",
       " 48,\n",
       " 48,\n",
       " 48,\n",
       " 51,\n",
       " 48,\n",
       " 54,\n",
       " 43,\n",
       " 53,\n",
       " 48,\n",
       " 54,\n",
       " 53,\n",
       " 50,\n",
       " 55,\n",
       " 54,\n",
       " 47,\n",
       " 48,\n",
       " 53,\n",
       " 52,\n",
       " 42,\n",
       " 49,\n",
       " 56,\n",
       " 52,\n",
       " 49,\n",
       " 40,\n",
       " 56,\n",
       " 50,\n",
       " 46,\n",
       " 50,\n",
       " 47,\n",
       " 54,\n",
       " 54,\n",
       " 48,\n",
       " 41,\n",
       " 51,\n",
       " 55,\n",
       " 50,\n",
       " 51,\n",
       " 34,\n",
       " 52,\n",
       " 47,\n",
       " 53,\n",
       " 55,\n",
       " 42,\n",
       " 49,\n",
       " 51,\n",
       " 44,\n",
       " 53,\n",
       " 51,\n",
       " 53,\n",
       " 59,\n",
       " 54,\n",
       " 49,\n",
       " 57,\n",
       " 44,\n",
       " 51,\n",
       " 43,\n",
       " 53,\n",
       " 46,\n",
       " 56,\n",
       " 47,\n",
       " 44,\n",
       " 45,\n",
       " 45,\n",
       " 58,\n",
       " 59,\n",
       " 43,\n",
       " 50,\n",
       " 53,\n",
       " 42,\n",
       " 50,\n",
       " 47,\n",
       " 49,\n",
       " 47,\n",
       " 42,\n",
       " 51,\n",
       " 50,\n",
       " 51,\n",
       " 59,\n",
       " 50,\n",
       " 58,\n",
       " 42,\n",
       " 51,\n",
       " 54,\n",
       " 50,\n",
       " 57,\n",
       " 54,\n",
       " 48,\n",
       " 54,\n",
       " 57,\n",
       " 45,\n",
       " 49,\n",
       " 55,\n",
       " 53,\n",
       " 52,\n",
       " 51,\n",
       " 55,\n",
       " 57,\n",
       " 52,\n",
       " 49,\n",
       " 45,\n",
       " 47,\n",
       " 52,\n",
       " 50,\n",
       " 47,\n",
       " 51,\n",
       " 56,\n",
       " 54,\n",
       " 58,\n",
       " 53,\n",
       " 44,\n",
       " 50,\n",
       " 50,\n",
       " 46,\n",
       " 48,\n",
       " 45,\n",
       " 59,\n",
       " 55,\n",
       " 48,\n",
       " 53,\n",
       " 47,\n",
       " 44,\n",
       " 52,\n",
       " 52]"
      ]
     },
     "execution_count": 142,
     "metadata": {},
     "output_type": "execute_result"
    }
   ],
   "source": [
    "list"
   ]
  },
  {
   "cell_type": "markdown",
   "metadata": {},
   "source": [
    "Now that we have a list we need to do the counting and save it into a dictionary.<br>\n",
    "Dictionary key - amount of heads out of 100 flips.<br>\n",
    "Dictionary value - amount of occurences of that particular amount in 1000 runs."
   ]
  },
  {
   "cell_type": "code",
   "execution_count": 143,
   "metadata": {},
   "outputs": [],
   "source": [
    "# Counter() function does the counting for us, converting the list into a dictionary\n",
    "from collections import Counter\n",
    "list_dict = Counter(list)   # list_dict is our dictionary now\n",
    "\n",
    "# https://stackoverflow.com/questions/2600191/how-can-i-count-the-occurrences-of-a-list-item\n",
    "# How can I count the occurrences of a list item?"
   ]
  },
  {
   "cell_type": "code",
   "execution_count": 144,
   "metadata": {},
   "outputs": [
    {
     "data": {
      "text/plain": [
       "Counter({39: 7,\n",
       "         45: 40,\n",
       "         47: 61,\n",
       "         49: 78,\n",
       "         51: 84,\n",
       "         55: 44,\n",
       "         50: 78,\n",
       "         59: 22,\n",
       "         53: 72,\n",
       "         56: 43,\n",
       "         43: 29,\n",
       "         57: 25,\n",
       "         52: 78,\n",
       "         44: 32,\n",
       "         60: 16,\n",
       "         58: 21,\n",
       "         48: 76,\n",
       "         63: 4,\n",
       "         46: 60,\n",
       "         54: 55,\n",
       "         61: 4,\n",
       "         37: 4,\n",
       "         42: 23,\n",
       "         41: 15,\n",
       "         40: 14,\n",
       "         38: 4,\n",
       "         62: 3,\n",
       "         64: 2,\n",
       "         34: 2,\n",
       "         36: 2,\n",
       "         65: 1,\n",
       "         35: 1})"
      ]
     },
     "execution_count": 144,
     "metadata": {},
     "output_type": "execute_result"
    }
   ],
   "source": [
    "list_dict"
   ]
  },
  {
   "cell_type": "markdown",
   "metadata": {},
   "source": [
    "<b>Select an appropriate plot to depict the resulting list of 1,000 numbers, showing that it roughly follows a bell-shaped curve. </b>"
   ]
  },
  {
   "cell_type": "code",
   "execution_count": 145,
   "metadata": {},
   "outputs": [],
   "source": [
    "import matplotlib.pyplot as plt\n",
    "import seaborn as sns\n",
    "%matplotlib inline"
   ]
  },
  {
   "cell_type": "markdown",
   "metadata": {},
   "source": [
    "Plotting a <b> bar plot</b> first"
   ]
  },
  {
   "cell_type": "code",
   "execution_count": 150,
   "metadata": {},
   "outputs": [
    {
     "data": {
      "image/png": "[encoded data removed]",
      "text/plain": [
       "<Figure size 432x288 with 1 Axes>"
      ]
     },
     "metadata": {
      "needs_background": "light"
     },
     "output_type": "display_data"
    }
   ],
   "source": [
    "plt.bar(*zip(*list_dict.items()),color='green')\n",
    "plt.xlabel('Number of heads out of 100 flips',fontsize=13)\n",
    "plt.ylabel('Tests with this result (1000 runs)',fontsize=13)\n",
    "plt.title('Simulation of 1000 runs',fontsize=18,color='red')\n",
    "plt.show()\n",
    "\n",
    "#   Plot a bar using matplotlib using a dictionary  \n",
    "# https://stackoverflow.com/questions/16010869/plot-a-bar-using-matplotlib-using-a-dictionary\n",
    "\n",
    "# https://www.listendata.com/2019/06/matplotlib-tutorial-learn-plot-python.html\n",
    "\n",
    "# https://www.geeksforgeeks.org/bar-plot-in-matplotlib/"
   ]
  },
  {
   "cell_type": "markdown",
   "metadata": {},
   "source": [
    "Plotting a curved line plot."
   ]
  },
  {
   "cell_type": "code",
   "execution_count": 147,
   "metadata": {},
   "outputs": [
    {
     "data": {
      "image/png": "[encoded data removed]",
      "text/plain": [
       "<Figure size 432x288 with 1 Axes>"
      ]
     },
     "metadata": {
      "needs_background": "light"
     },
     "output_type": "display_data"
    }
   ],
   "source": [
    "import matplotlib.pylab as plt\n",
    "\n",
    "lists = sorted(list_dict.items()) # sorted by key, return a list of tuples\n",
    "x, y = zip(*lists) # unpack a list of pairs into two tuples\n",
    "plt.xlabel('Number of heads out of 100 flips',fontsize=13)\n",
    "plt.ylabel('Tests with this result (1000 runs)',fontsize=13)\n",
    "plt.title('Simulation of 1000 runs',fontsize=18,color='blue')\n",
    "plt.plot(x, y)\n",
    "plt.show()\n",
    "\n",
    "# Plotting a python dict in order of key values\n",
    "# https://stackoverflow.com/questions/37266341/plotting-a-python-dict-in-order-of-key-values/37266356"
   ]
  },
  {
   "cell_type": "markdown",
   "metadata": {},
   "source": [
    "<b>Conclusion:</b><br>\n",
    "   <i> So, we have created a code that simulates random coin flip 100 times. Then, we added a code that is able to run that simulation 1000 times. Finally, following that simulation, we plotted the resulting list of 1000 values on a bar plot and line plot.<br>\n",
    "    We came to the conclusion that the shape of the plots does indeed follow the bell curve very closely, with 47 - 53 values being the top of the curve as most frequent values and the values less than 47 and more than 53 have progressively smaller amount of occurence. It is worth mentioned, though, that in most runs 50 value has lower occurence than neighbouring 49 and 51, so then our bell-curve has a characteristic dip in the middle.</i>"
   ]
  },
  {
   "cell_type": "markdown",
   "metadata": {},
   "source": [
    "*****"
   ]
  },
  {
   "cell_type": "markdown",
   "metadata": {},
   "source": [
    "## Task 4"
   ]
  },
  {
   "cell_type": "markdown",
   "metadata": {},
   "source": [
    "##### Simpson’s paradox is a well-known statistical paradox where a trend evident in a number of groups reverses when the groups are combined into one big data set. Use numpy to create four data sets, each with an x array and a corresponding y array, to demonstrate Simpson’s paradox. You might create your x arrays using numpy.linspace and create the y array for each x using notation like y = a * x + b where you choose the a and b for each x , y pair to demonstrate the paradox. You might see the Wikipedia page for Simpson’s paradox for inspiration.\n"
   ]
  },
  {
   "cell_type": "markdown",
   "metadata": {},
   "source": [
    "Simpson's paradox, which also goes by several other names, is a phenomenon in probability and statistics, in which a trend appears in several different groups of data but disappears or reverses when these groups are combined. This result is often encountered in social-science and medical-science statistics and is particularly problematic when frequency data is unduly given causal interpretations. The paradox can be resolved when causal relations are appropriately addressed in the statistical modeling. It is also referred to as Simpson's reversal, Yule–Simpson effect, amalgamation paradox, or reversal paradox.\n"
   ]
  },
  {
   "attachments": {
    "batt.PNG": {
     "image/png": "[encoded data removed]"
    }
   },
   "cell_type": "markdown",
   "metadata": {},
   "source": [
    "#### Example\n",
    "\n",
    "##### Batting averages\n",
    "\n",
    "A common example of Simpson's paradox involves the batting averages of players in professional baseball. It is possible for one player to have a higher batting average than another player each year for a number of years, but to have a lower batting average across all of those years. This phenomenon can occur when there are large differences in the number of at bats between the years. Mathematician Ken Ross demonstrated this using the batting average of two baseball players, Derek Jeter and David Justice, during the years 1995 and 1996\n",
    "\n",
    "![batt.PNG](attachment:batt.PNG)\n",
    "\n",
    "In both 1995 and 1996, Justice had a higher batting average (in bold type) than Jeter did. However, when the two baseball seasons are combined, Jeter shows a higher batting average than Justice. \n",
    "\n",
    "<i> Reference: https://en.wikipedia.org/wiki/Simpson%27s_paradox </i>"
   ]
  },
  {
   "cell_type": "markdown",
   "metadata": {},
   "source": [
    "#### Use numpy to create four data sets, each with an x array and a corresponding y array..."
   ]
  },
  {
   "cell_type": "markdown",
   "metadata": {},
   "source": [
    "*****"
   ]
  },
  {
   "cell_type": "markdown",
   "metadata": {},
   "source": [
    "##### Creating datasets"
   ]
  },
  {
   "cell_type": "markdown",
   "metadata": {},
   "source": [
    "We are going to analyze seasonal statyistics of 2 basketball players from \"Lakeville Racoons\" from Midwestern Basketball League (MWBA) - Ka'whim Johnson and Brent Simpson. To be more precise, we will analyze their average scoring (average points per game ) during the two consecutive seasons -1991/92 and 1992/93. After that we will analyze their statistics as total of these two seasons."
   ]
  },
  {
   "cell_type": "code",
   "execution_count": 30,
   "metadata": {},
   "outputs": [],
   "source": [
    "# importing libraries\n",
    "import numpy as np\n",
    "import random\n",
    "import pandas as pd\n",
    "import seaborn as sns\n",
    "import matplotlib.pyplot as plt\n",
    "%matplotlib inline"
   ]
  },
  {
   "cell_type": "markdown",
   "metadata": {},
   "source": [
    "##### Kawhim Johnson 1991/92"
   ]
  },
  {
   "cell_type": "code",
   "execution_count": 31,
   "metadata": {},
   "outputs": [],
   "source": [
    "# Creating DataFrame for Ka'whim Johnson for season 1991/92\n",
    "# He played 73 games that season.\n",
    "np.random.seed(35)\n",
    "games_kj_92 = np.linspace(1,73,73)"
   ]
  },
  {
   "cell_type": "code",
   "execution_count": 32,
   "metadata": {},
   "outputs": [
    {
     "data": {
      "text/plain": [
       "array([ 1.,  2.,  3.,  4.,  5.,  6.,  7.,  8.,  9., 10., 11., 12., 13.,\n",
       "       14., 15., 16., 17., 18., 19., 20., 21., 22., 23., 24., 25., 26.,\n",
       "       27., 28., 29., 30., 31., 32., 33., 34., 35., 36., 37., 38., 39.,\n",
       "       40., 41., 42., 43., 44., 45., 46., 47., 48., 49., 50., 51., 52.,\n",
       "       53., 54., 55., 56., 57., 58., 59., 60., 61., 62., 63., 64., 65.,\n",
       "       66., 67., 68., 69., 70., 71., 72., 73.])"
      ]
     },
     "execution_count": 32,
     "metadata": {},
     "output_type": "execute_result"
    }
   ],
   "source": [
    "games_kj_92"
   ]
  },
  {
   "cell_type": "code",
   "execution_count": 33,
   "metadata": {},
   "outputs": [],
   "source": [
    "# Creating scoring data using numpy.triangular() function.\n",
    "# Scoring stats: \n",
    "# Worst game - 10 points where he only managed to score 3 times out of 14 from the game (three-point shots 0/4) \n",
    "# and only scored 4 penalty shots out of 7. \n",
    "# Maximum score - 37 points where they played at home the worst team in the league and outscored their opponents by 42 points. \n",
    "# Average per game for the season -  23 \n",
    "points_kj_92 = np.random.triangular(10, 23, 37,73).round(0)"
   ]
  },
  {
   "cell_type": "code",
   "execution_count": 34,
   "metadata": {},
   "outputs": [
    {
     "data": {
      "text/plain": [
       "array([23., 20., 19., 20., 29., 16., 25., 20., 26., 26., 28., 14., 31.,\n",
       "       19., 20., 35., 18., 35., 27., 19., 17., 23., 22., 15., 21., 12.,\n",
       "       28., 30., 24., 15., 29., 23., 30., 18., 22., 29., 34., 25., 30.,\n",
       "       19., 25., 20., 19., 24., 16., 21., 25., 29., 21., 19., 28., 25.,\n",
       "       23., 32., 26., 26., 20., 16., 17., 28., 23., 23., 27., 33., 17.,\n",
       "       33., 16., 35., 22., 17., 26., 20., 24.])"
      ]
     },
     "execution_count": 34,
     "metadata": {},
     "output_type": "execute_result"
    }
   ],
   "source": [
    "points_kj_92"
   ]
  },
  {
   "cell_type": "code",
   "execution_count": 35,
   "metadata": {},
   "outputs": [
    {
     "data": {
      "text/plain": [
       "1712.0"
      ]
     },
     "execution_count": 35,
     "metadata": {},
     "output_type": "execute_result"
    }
   ],
   "source": [
    "# Total points scored this season\n",
    "points_kj_92.sum().round(0)"
   ]
  },
  {
   "cell_type": "code",
   "execution_count": 36,
   "metadata": {},
   "outputs": [],
   "source": [
    "# Creating DataFrame with generated numbers\n",
    "johnson1992 = pd.DataFrame({'Game number':games_kj_92,'Points':points_kj_92})"
   ]
  },
  {
   "cell_type": "code",
   "execution_count": 37,
   "metadata": {},
   "outputs": [
    {
     "name": "stdout",
     "output_type": "stream",
     "text": [
      "    Game number  Points\n",
      "0           1.0    23.0\n",
      "1           2.0    20.0\n",
      "2           3.0    19.0\n",
      "3           4.0    20.0\n",
      "4           5.0    29.0\n",
      "..          ...     ...\n",
      "68         69.0    22.0\n",
      "69         70.0    17.0\n",
      "70         71.0    26.0\n",
      "71         72.0    20.0\n",
      "72         73.0    24.0\n",
      "\n",
      "[73 rows x 2 columns]\n"
     ]
    }
   ],
   "source": [
    "johnson1992"
   ]
  },
  {
   "cell_type": "code",
   "execution_count": 38,
   "metadata": {},
   "outputs": [],
   "source": [
    "# Creating last rows with seasonal totals stats - 'Total games' and 'Total points'"
   ]
  },
  {
   "cell_type": "code",
   "execution_count": 39,
   "metadata": {},
   "outputs": [],
   "source": [
    "total_games_kj_92 = games_kj_92.max()"
   ]
  },
  {
   "cell_type": "code",
   "execution_count": 40,
   "metadata": {},
   "outputs": [],
   "source": [
    "total_points_kj_92 = points_kj_92.sum()"
   ]
  },
  {
   "cell_type": "code",
   "execution_count": 41,
   "metadata": {},
   "outputs": [],
   "source": [
    "johnson1992.loc[73] = ['Total games','Total points']\n",
    "johnson1992.loc[74] = [total_games_kj_92,total_points_kj_92]\n",
    "\n",
    "# https://stackoverflow.com/questions/46621712/add-a-new-row-to-a-pandas-dataframe-with-specific-index-name"
   ]
  },
  {
   "cell_type": "code",
   "execution_count": 42,
   "metadata": {},
   "outputs": [
    {
     "data": {
      "text/html": [
       "<div>\n",
       "<style scoped>\n",
       "    .dataframe tbody tr th:only-of-type {\n",
       "        vertical-align: middle;\n",
       "    }\n",
       "\n",
       "    .dataframe tbody tr th {\n",
       "        vertical-align: top;\n",
       "    }\n",
       "\n",
       "    .dataframe thead th {\n",
       "        text-align: right;\n",
       "    }\n",
       "</style>\n",
       "<table border=\"1\" class=\"dataframe\">\n",
       "  <thead>\n",
       "    <tr style=\"text-align: right;\">\n",
       "      <th></th>\n",
       "      <th>Game number</th>\n",
       "      <th>Points</th>\n",
       "    </tr>\n",
       "  </thead>\n",
       "  <tbody>\n",
       "    <tr>\n",
       "      <th>0</th>\n",
       "      <td>1</td>\n",
       "      <td>23</td>\n",
       "    </tr>\n",
       "    <tr>\n",
       "      <th>1</th>\n",
       "      <td>2</td>\n",
       "      <td>20</td>\n",
       "    </tr>\n",
       "    <tr>\n",
       "      <th>2</th>\n",
       "      <td>3</td>\n",
       "      <td>19</td>\n",
       "    </tr>\n",
       "    <tr>\n",
       "      <th>3</th>\n",
       "      <td>4</td>\n",
       "      <td>20</td>\n",
       "    </tr>\n",
       "    <tr>\n",
       "      <th>4</th>\n",
       "      <td>5</td>\n",
       "      <td>29</td>\n",
       "    </tr>\n",
       "    <tr>\n",
       "      <th>...</th>\n",
       "      <td>...</td>\n",
       "      <td>...</td>\n",
       "    </tr>\n",
       "    <tr>\n",
       "      <th>70</th>\n",
       "      <td>71</td>\n",
       "      <td>26</td>\n",
       "    </tr>\n",
       "    <tr>\n",
       "      <th>71</th>\n",
       "      <td>72</td>\n",
       "      <td>20</td>\n",
       "    </tr>\n",
       "    <tr>\n",
       "      <th>72</th>\n",
       "      <td>73</td>\n",
       "      <td>24</td>\n",
       "    </tr>\n",
       "    <tr>\n",
       "      <th>73</th>\n",
       "      <td>Total games</td>\n",
       "      <td>Total points</td>\n",
       "    </tr>\n",
       "    <tr>\n",
       "      <th>74</th>\n",
       "      <td>73</td>\n",
       "      <td>1712</td>\n",
       "    </tr>\n",
       "  </tbody>\n",
       "</table>\n",
       "<p>75 rows × 2 columns</p>\n",
       "</div>"
      ],
      "text/plain": [
       "    Game number        Points\n",
       "0             1            23\n",
       "1             2            20\n",
       "2             3            19\n",
       "3             4            20\n",
       "4             5            29\n",
       "..          ...           ...\n",
       "70           71            26\n",
       "71           72            20\n",
       "72           73            24\n",
       "73  Total games  Total points\n",
       "74           73          1712\n",
       "\n",
       "[75 rows x 2 columns]"
      ]
     },
     "execution_count": 42,
     "metadata": {},
     "output_type": "execute_result"
    }
   ],
   "source": [
    "johnson1992"
   ]
  },
  {
   "cell_type": "markdown",
   "metadata": {},
   "source": [
    "#### Brent Simpson 1991/92"
   ]
  },
  {
   "cell_type": "code",
   "execution_count": 61,
   "metadata": {},
   "outputs": [],
   "source": [
    "# Creating data for Brent Simpson season 1991/92\n",
    "# Due to back injury he only played 13 games that season.\n",
    "np.random.seed(44)\n",
    "games_bs_92 = np.linspace(1,13,13)"
   ]
  },
  {
   "cell_type": "code",
   "execution_count": 62,
   "metadata": {},
   "outputs": [
    {
     "data": {
      "text/plain": [
       "array([ 1.,  2.,  3.,  4.,  5.,  6.,  7.,  8.,  9., 10., 11., 12., 13.])"
      ]
     },
     "execution_count": 62,
     "metadata": {},
     "output_type": "execute_result"
    }
   ],
   "source": [
    "games_bs_92"
   ]
  },
  {
   "cell_type": "code",
   "execution_count": 63,
   "metadata": {},
   "outputs": [],
   "source": [
    "# Creating scoring data using numpy.triangular() function. Wo \n",
    "points_bs_92 = np.random.triangular(11, 23,33,13).round(0)"
   ]
  },
  {
   "cell_type": "code",
   "execution_count": 64,
   "metadata": {},
   "outputs": [
    {
     "data": {
      "text/plain": [
       "array([27., 16., 26., 21., 21., 24., 21., 21., 23., 25., 30., 22., 22.])"
      ]
     },
     "execution_count": 64,
     "metadata": {},
     "output_type": "execute_result"
    }
   ],
   "source": [
    "points_bs_92"
   ]
  },
  {
   "cell_type": "code",
   "execution_count": 65,
   "metadata": {},
   "outputs": [
    {
     "data": {
      "text/plain": [
       "299.0"
      ]
     },
     "execution_count": 65,
     "metadata": {},
     "output_type": "execute_result"
    }
   ],
   "source": [
    "# Total points scored this season\n",
    "points_bs_92.sum().round(0)"
   ]
  },
  {
   "cell_type": "code",
   "execution_count": 66,
   "metadata": {},
   "outputs": [],
   "source": [
    "# Creating DataFrame with generated numbers\n",
    "simpson1992 = pd.DataFrame({'Game number':games_bs_92,'Points':points_bs_92})"
   ]
  },
  {
   "cell_type": "code",
   "execution_count": 67,
   "metadata": {},
   "outputs": [
    {
     "data": {
      "text/html": [
       "<div>\n",
       "<style scoped>\n",
       "    .dataframe tbody tr th:only-of-type {\n",
       "        vertical-align: middle;\n",
       "    }\n",
       "\n",
       "    .dataframe tbody tr th {\n",
       "        vertical-align: top;\n",
       "    }\n",
       "\n",
       "    .dataframe thead th {\n",
       "        text-align: right;\n",
       "    }\n",
       "</style>\n",
       "<table border=\"1\" class=\"dataframe\">\n",
       "  <thead>\n",
       "    <tr style=\"text-align: right;\">\n",
       "      <th></th>\n",
       "      <th>Game number</th>\n",
       "      <th>Points</th>\n",
       "    </tr>\n",
       "  </thead>\n",
       "  <tbody>\n",
       "    <tr>\n",
       "      <th>0</th>\n",
       "      <td>1.0</td>\n",
       "      <td>27.0</td>\n",
       "    </tr>\n",
       "    <tr>\n",
       "      <th>1</th>\n",
       "      <td>2.0</td>\n",
       "      <td>16.0</td>\n",
       "    </tr>\n",
       "    <tr>\n",
       "      <th>2</th>\n",
       "      <td>3.0</td>\n",
       "      <td>26.0</td>\n",
       "    </tr>\n",
       "    <tr>\n",
       "      <th>3</th>\n",
       "      <td>4.0</td>\n",
       "      <td>21.0</td>\n",
       "    </tr>\n",
       "    <tr>\n",
       "      <th>4</th>\n",
       "      <td>5.0</td>\n",
       "      <td>21.0</td>\n",
       "    </tr>\n",
       "    <tr>\n",
       "      <th>5</th>\n",
       "      <td>6.0</td>\n",
       "      <td>24.0</td>\n",
       "    </tr>\n",
       "    <tr>\n",
       "      <th>6</th>\n",
       "      <td>7.0</td>\n",
       "      <td>21.0</td>\n",
       "    </tr>\n",
       "    <tr>\n",
       "      <th>7</th>\n",
       "      <td>8.0</td>\n",
       "      <td>21.0</td>\n",
       "    </tr>\n",
       "    <tr>\n",
       "      <th>8</th>\n",
       "      <td>9.0</td>\n",
       "      <td>23.0</td>\n",
       "    </tr>\n",
       "    <tr>\n",
       "      <th>9</th>\n",
       "      <td>10.0</td>\n",
       "      <td>25.0</td>\n",
       "    </tr>\n",
       "    <tr>\n",
       "      <th>10</th>\n",
       "      <td>11.0</td>\n",
       "      <td>30.0</td>\n",
       "    </tr>\n",
       "    <tr>\n",
       "      <th>11</th>\n",
       "      <td>12.0</td>\n",
       "      <td>22.0</td>\n",
       "    </tr>\n",
       "    <tr>\n",
       "      <th>12</th>\n",
       "      <td>13.0</td>\n",
       "      <td>22.0</td>\n",
       "    </tr>\n",
       "  </tbody>\n",
       "</table>\n",
       "</div>"
      ],
      "text/plain": [
       "    Game number  Points\n",
       "0           1.0    27.0\n",
       "1           2.0    16.0\n",
       "2           3.0    26.0\n",
       "3           4.0    21.0\n",
       "4           5.0    21.0\n",
       "5           6.0    24.0\n",
       "6           7.0    21.0\n",
       "7           8.0    21.0\n",
       "8           9.0    23.0\n",
       "9          10.0    25.0\n",
       "10         11.0    30.0\n",
       "11         12.0    22.0\n",
       "12         13.0    22.0"
      ]
     },
     "execution_count": 67,
     "metadata": {},
     "output_type": "execute_result"
    }
   ],
   "source": [
    "simpson1992"
   ]
  },
  {
   "cell_type": "code",
   "execution_count": 68,
   "metadata": {},
   "outputs": [],
   "source": [
    "# Creating last rows with seasonal totals stats - 'Total games' and 'Total points'"
   ]
  },
  {
   "cell_type": "code",
   "execution_count": 72,
   "metadata": {},
   "outputs": [],
   "source": [
    "total_games_bs_92 = games_bs_92.max()"
   ]
  },
  {
   "cell_type": "code",
   "execution_count": 73,
   "metadata": {},
   "outputs": [],
   "source": [
    "total_points_bs_92 = points_bs_92.sum()"
   ]
  },
  {
   "cell_type": "code",
   "execution_count": 74,
   "metadata": {},
   "outputs": [],
   "source": [
    "simpson1992.loc[13] = ['Total games','Total points']\n",
    "simpson1992.loc[14] = [total_games_bs_92,total_points_bs_92]"
   ]
  },
  {
   "cell_type": "code",
   "execution_count": 75,
   "metadata": {},
   "outputs": [
    {
     "data": {
      "text/html": [
       "<div>\n",
       "<style scoped>\n",
       "    .dataframe tbody tr th:only-of-type {\n",
       "        vertical-align: middle;\n",
       "    }\n",
       "\n",
       "    .dataframe tbody tr th {\n",
       "        vertical-align: top;\n",
       "    }\n",
       "\n",
       "    .dataframe thead th {\n",
       "        text-align: right;\n",
       "    }\n",
       "</style>\n",
       "<table border=\"1\" class=\"dataframe\">\n",
       "  <thead>\n",
       "    <tr style=\"text-align: right;\">\n",
       "      <th></th>\n",
       "      <th>Game number</th>\n",
       "      <th>Points</th>\n",
       "    </tr>\n",
       "  </thead>\n",
       "  <tbody>\n",
       "    <tr>\n",
       "      <th>0</th>\n",
       "      <td>1</td>\n",
       "      <td>27</td>\n",
       "    </tr>\n",
       "    <tr>\n",
       "      <th>1</th>\n",
       "      <td>2</td>\n",
       "      <td>16</td>\n",
       "    </tr>\n",
       "    <tr>\n",
       "      <th>2</th>\n",
       "      <td>3</td>\n",
       "      <td>26</td>\n",
       "    </tr>\n",
       "    <tr>\n",
       "      <th>3</th>\n",
       "      <td>4</td>\n",
       "      <td>21</td>\n",
       "    </tr>\n",
       "    <tr>\n",
       "      <th>4</th>\n",
       "      <td>5</td>\n",
       "      <td>21</td>\n",
       "    </tr>\n",
       "    <tr>\n",
       "      <th>5</th>\n",
       "      <td>6</td>\n",
       "      <td>24</td>\n",
       "    </tr>\n",
       "    <tr>\n",
       "      <th>6</th>\n",
       "      <td>7</td>\n",
       "      <td>21</td>\n",
       "    </tr>\n",
       "    <tr>\n",
       "      <th>7</th>\n",
       "      <td>8</td>\n",
       "      <td>21</td>\n",
       "    </tr>\n",
       "    <tr>\n",
       "      <th>8</th>\n",
       "      <td>9</td>\n",
       "      <td>23</td>\n",
       "    </tr>\n",
       "    <tr>\n",
       "      <th>9</th>\n",
       "      <td>10</td>\n",
       "      <td>25</td>\n",
       "    </tr>\n",
       "    <tr>\n",
       "      <th>10</th>\n",
       "      <td>11</td>\n",
       "      <td>30</td>\n",
       "    </tr>\n",
       "    <tr>\n",
       "      <th>11</th>\n",
       "      <td>12</td>\n",
       "      <td>22</td>\n",
       "    </tr>\n",
       "    <tr>\n",
       "      <th>12</th>\n",
       "      <td>13</td>\n",
       "      <td>22</td>\n",
       "    </tr>\n",
       "    <tr>\n",
       "      <th>13</th>\n",
       "      <td>Total games</td>\n",
       "      <td>Total points</td>\n",
       "    </tr>\n",
       "    <tr>\n",
       "      <th>14</th>\n",
       "      <td>13</td>\n",
       "      <td>299</td>\n",
       "    </tr>\n",
       "  </tbody>\n",
       "</table>\n",
       "</div>"
      ],
      "text/plain": [
       "    Game number        Points\n",
       "0             1            27\n",
       "1             2            16\n",
       "2             3            26\n",
       "3             4            21\n",
       "4             5            21\n",
       "5             6            24\n",
       "6             7            21\n",
       "7             8            21\n",
       "8             9            23\n",
       "9            10            25\n",
       "10           11            30\n",
       "11           12            22\n",
       "12           13            22\n",
       "13  Total games  Total points\n",
       "14           13           299"
      ]
     },
     "execution_count": 75,
     "metadata": {},
     "output_type": "execute_result"
    }
   ],
   "source": [
    "simpson1992"
   ]
  },
  {
   "cell_type": "code",
   "execution_count": null,
   "metadata": {},
   "outputs": [],
   "source": []
  }
 ],
 "metadata": {
  "kernelspec": {
   "display_name": "Python 3",
   "language": "python",
   "name": "python3"
  },
  "language_info": {
   "codemirror_mode": {
    "name": "ipython",
    "version": 3
   },
   "file_extension": ".py",
   "mimetype": "text/x-python",
   "name": "python",
   "nbconvert_exporter": "python",
   "pygments_lexer": "ipython3",
   "version": "3.8.3"
  }
 },
 "nbformat": 4,
 "nbformat_minor": 4
}
