{
 "cells": [
  {
   "cell_type": "code",
   "execution_count": 192,
   "metadata": {},
   "outputs": [],
   "source": [
    "import numpy as np\n",
    "import matplotlib.pyplot as plt\n",
    "%matplotlib inline\n",
    "import random"
   ]
  },
  {
   "cell_type": "code",
   "execution_count": 193,
   "metadata": {},
   "outputs": [],
   "source": [
    "dice_1 = np.random.randint(1,7,size=1000)"
   ]
  },
  {
   "cell_type": "code",
   "execution_count": 194,
   "metadata": {},
   "outputs": [],
   "source": [
    "dice_2 = np.random.randint(1,7,size=1000)"
   ]
  },
  {
   "cell_type": "code",
   "execution_count": 195,
   "metadata": {},
   "outputs": [],
   "source": [
    "dice_total = dice_1 + dice_2"
   ]
  },
  {
   "cell_type": "markdown",
   "metadata": {},
   "source": [
    "#### Converting our array into a list\n",
    "https://www.journaldev.com/32797/python-convert-numpy-array-to-list"
   ]
  },
  {
   "cell_type": "code",
   "execution_count": 196,
   "metadata": {},
   "outputs": [
    {
     "name": "stdout",
     "output_type": "stream",
     "text": [
      "Dice_total: [7, 8, 9, 10, 7, 5, 9, 5, 5, 7, 6, 6, 6, 8, 8, 7, 10, 5, 11, 9, 7, 8, 4, 11, 6, 9, 12, 2, 4, 7, 11, 10, 10, 3, 3, 8, 6, 5, 9, 5, 6, 7, 6, 8, 8, 6, 5, 3, 5, 9, 7, 9, 11, 7, 5, 10, 9, 7, 5, 9, 4, 3, 8, 8, 7, 6, 8, 9, 7, 4, 6, 9, 6, 8, 6, 10, 8, 7, 3, 4, 7, 8, 3, 9, 11, 6, 4, 8, 6, 7, 5, 8, 6, 4, 6, 9, 11, 8, 6, 5, 3, 8, 4, 7, 7, 10, 4, 3, 7, 5, 5, 7, 5, 8, 9, 8, 3, 11, 6, 7, 3, 5, 10, 6, 10, 6, 10, 4, 10, 8, 8, 7, 6, 9, 7, 7, 6, 5, 10, 5, 9, 11, 7, 7, 9, 9, 5, 7, 4, 5, 5, 6, 6, 7, 7, 6, 12, 5, 9, 3, 4, 10, 6, 4, 5, 9, 5, 5, 4, 7, 12, 10, 3, 6, 6, 4, 8, 7, 7, 9, 7, 5, 5, 6, 8, 7, 4, 4, 7, 11, 6, 6, 8, 8, 7, 6, 7, 6, 4, 6, 9, 9, 6, 4, 10, 6, 5, 10, 4, 4, 7, 6, 5, 7, 8, 6, 7, 8, 11, 6, 8, 7, 6, 10, 4, 2, 11, 4, 4, 9, 8, 9, 7, 6, 6, 7, 8, 9, 3, 8, 4, 7, 9, 7, 9, 10, 6, 3, 6, 7, 7, 10, 9, 6, 9, 7, 11, 3, 7, 10, 6, 7, 4, 4, 7, 7, 7, 6, 8, 7, 11, 7, 8, 5, 3, 8, 4, 8, 9, 5, 7, 7, 10, 7, 7, 4, 7, 6, 7, 8, 7, 4, 8, 8, 8, 5, 7, 9, 7, 10, 12, 7, 7, 10, 5, 8, 8, 10, 10, 7, 5, 10, 10, 5, 7, 7, 5, 6, 8, 6, 10, 6, 7, 10, 5, 5, 7, 12, 7, 7, 5, 7, 10, 7, 10, 4, 11, 8, 11, 11, 7, 7, 11, 9, 10, 9, 6, 7, 6, 4, 7, 2, 10, 8, 9, 6, 8, 7, 6, 7, 7, 6, 8, 3, 10, 4, 11, 4, 8, 7, 8, 10, 6, 6, 7, 2, 8, 6, 8, 10, 2, 10, 5, 4, 5, 6, 5, 11, 8, 5, 12, 8, 4, 6, 7, 11, 6, 7, 5, 8, 4, 9, 9, 10, 3, 7, 9, 6, 7, 9, 8, 5, 12, 8, 8, 11, 4, 6, 7, 6, 6, 6, 7, 9, 7, 4, 11, 2, 7, 11, 6, 6, 7, 9, 8, 8, 8, 9, 6, 11, 12, 8, 10, 10, 5, 3, 6, 6, 2, 7, 4, 2, 8, 3, 5, 6, 4, 10, 9, 11, 8, 8, 4, 7, 7, 7, 5, 6, 8, 11, 5, 11, 3, 12, 7, 7, 9, 3, 6, 7, 9, 6, 5, 8, 11, 11, 10, 8, 6, 10, 11, 7, 10, 6, 9, 6, 10, 3, 9, 9, 7, 4, 9, 6, 4, 3, 10, 7, 6, 2, 10, 11, 6, 4, 8, 7, 7, 3, 7, 5, 9, 8, 7, 10, 6, 9, 6, 7, 12, 5, 12, 9, 6, 7, 11, 10, 7, 12, 11, 7, 6, 10, 8, 12, 7, 10, 10, 8, 3, 3, 7, 6, 7, 5, 4, 9, 10, 5, 4, 7, 7, 6, 4, 3, 9, 9, 7, 6, 10, 6, 5, 4, 7, 6, 2, 8, 6, 4, 5, 11, 9, 11, 5, 10, 2, 8, 5, 11, 3, 3, 6, 9, 10, 6, 9, 6, 6, 8, 10, 8, 5, 9, 12, 8, 7, 6, 9, 8, 3, 7, 6, 10, 7, 11, 8, 3, 10, 3, 6, 7, 8, 3, 7, 10, 5, 3, 2, 7, 6, 2, 3, 9, 12, 2, 3, 4, 5, 6, 7, 6, 8, 6, 5, 8, 3, 9, 7, 9, 3, 8, 8, 7, 5, 7, 7, 4, 7, 7, 11, 6, 11, 7, 7, 7, 11, 10, 7, 5, 5, 5, 9, 10, 4, 6, 10, 4, 7, 6, 11, 3, 7, 10, 6, 7, 11, 7, 2, 5, 3, 6, 10, 6, 8, 6, 4, 7, 4, 9, 3, 9, 11, 10, 2, 12, 7, 9, 12, 7, 7, 8, 8, 6, 9, 6, 5, 12, 7, 10, 5, 8, 9, 7, 6, 8, 9, 7, 5, 7, 8, 6, 10, 9, 5, 8, 7, 5, 7, 9, 7, 6, 6, 5, 7, 11, 7, 12, 10, 8, 3, 8, 4, 10, 7, 8, 9, 10, 9, 2, 4, 8, 12, 10, 5, 9, 8, 8, 10, 6, 8, 11, 6, 8, 5, 7, 5, 8, 6, 7, 9, 6, 8, 12, 5, 7, 8, 6, 4, 3, 9, 5, 9, 6, 7, 8, 8, 6, 7, 4, 8, 3, 2, 10, 4, 8, 12, 11, 9, 10, 7, 6, 3, 5, 3, 7, 5, 7, 10, 7, 6, 9, 9, 7, 11, 6, 6, 9, 7, 7, 5, 7, 10, 9, 8, 10, 10, 5, 7, 2, 9, 6, 8, 8, 5, 9, 6, 6, 3, 4, 4, 7, 8, 8, 4, 4, 9, 7, 10, 8, 6, 7, 7, 11, 9, 6, 6, 3, 7, 9, 12, 4, 10, 5, 6, 7, 4, 6, 9, 7, 6, 3, 5, 8, 10, 8, 2, 8, 8, 5, 10, 5, 4, 8, 3, 8, 7, 11, 10, 7, 10, 7, 5, 8, 8, 8, 9, 12, 11, 8, 6, 10, 11, 11, 5, 5, 6, 4, 5, 5, 6, 7, 5, 7, 2, 7, 7, 6, 8, 7, 8, 10, 6, 9, 10, 7, 11, 3, 5, 6, 6, 6, 5, 7, 11, 7, 6, 7, 7, 7, 10, 5, 3, 9, 7, 8, 10, 6, 8, 6, 8, 9, 3, 10, 7, 5, 8, 3, 5, 8, 7, 9, 8, 6, 2, 6, 3, 5, 2, 9, 6, 5, 6, 9, 5, 3, 7, 6, 7, 7, 11, 9, 6, 9, 8, 8, 12, 7, 9, 7, 11, 10]\n"
     ]
    }
   ],
   "source": [
    "dice_total_list = dice_total.tolist()\n",
    "print(f'Dice_total: {dice_total_list}')"
   ]
  },
  {
   "cell_type": "code",
   "execution_count": 197,
   "metadata": {},
   "outputs": [],
   "source": [
    "# creating an empty list that will store the 2nd value - amount of times each sum occured \n",
    "list2 = []"
   ]
  },
  {
   "cell_type": "code",
   "execution_count": 198,
   "metadata": {},
   "outputs": [],
   "source": [
    "two = dice_total_list.count(2)\n",
    "four = dice_total_list.count(3)\n",
    "four = dice_total_list.count(4)\n",
    "five = dice_total_list.count(5)\n",
    "six = dice_total_list.count(6)\n",
    "seven = dice_total_list.count(7)\n",
    "eight = dice_total_list.count(8)\n",
    "nine = dice_total_list.count(9)\n",
    "ten = dice_total_list.count(10)\n",
    "eleven = dice_total_list.count(11)\n",
    "twelve = dice_total_list.count(12)"
   ]
  },
  {
   "cell_type": "code",
   "execution_count": 199,
   "metadata": {},
   "outputs": [],
   "source": [
    "# creating the 1st list that will store the 1st value - all the possible sums of 2 dice\n",
    "list1 = [2,3,4,5,6,7,8,9,10,11,12]"
   ]
  },
  {
   "cell_type": "code",
   "execution_count": 200,
   "metadata": {},
   "outputs": [],
   "source": [
    "# using .extend() function to add values to list2\n",
    "# https://stackoverflow.com/questions/20196159/how-to-append-multiple-values-to-a-list-in-python#:~:text=extend%20to%20extend%20the%20list,provides%20a%20sequence%20of%20values.&text=So%20you%20can%20use%20list,()%20to%20append%20multiple%20values.\n",
    "\n",
    "list2.extend((two,three,four,five,six,seven,eight,nine,ten,eleven,twelve))"
   ]
  },
  {
   "cell_type": "code",
   "execution_count": 201,
   "metadata": {},
   "outputs": [
    {
     "data": {
      "text/plain": [
       "[23, 57, 69, 101, 153, 195, 130, 99, 92, 56, 25]"
      ]
     },
     "execution_count": 201,
     "metadata": {},
     "output_type": "execute_result"
    }
   ],
   "source": [
    "list2"
   ]
  },
  {
   "cell_type": "code",
   "execution_count": 202,
   "metadata": {},
   "outputs": [],
   "source": [
    "# we combine data from list1 and list2 into one single dictionary\n",
    "# https://careerkarma.com/blog/python-convert-list-to-dictionary/#:~:text=Converting%20a%20list%20to%20a,the%20Python%20zip()%20function.\n",
    "# https://stackoverflow.com/questions/209840/convert-two-lists-into-a-dictionary"
   ]
  },
  {
   "cell_type": "code",
   "execution_count": 203,
   "metadata": {},
   "outputs": [],
   "source": [
    "dictionary = {list1[i]: list2[i] for i in range(len(list1))}"
   ]
  },
  {
   "cell_type": "code",
   "execution_count": 204,
   "metadata": {},
   "outputs": [
    {
     "data": {
      "text/plain": [
       "{2: 23,\n",
       " 3: 57,\n",
       " 4: 69,\n",
       " 5: 101,\n",
       " 6: 153,\n",
       " 7: 195,\n",
       " 8: 130,\n",
       " 9: 99,\n",
       " 10: 92,\n",
       " 11: 56,\n",
       " 12: 25}"
      ]
     },
     "execution_count": 204,
     "metadata": {},
     "output_type": "execute_result"
    }
   ],
   "source": [
    "dictionary"
   ]
  },
  {
   "cell_type": "code",
   "execution_count": null,
   "metadata": {},
   "outputs": [],
   "source": []
  },
  {
   "cell_type": "code",
   "execution_count": null,
   "metadata": {},
   "outputs": [],
   "source": []
  }
 ],
 "metadata": {
  "kernelspec": {
   "display_name": "Python 3",
   "language": "python",
   "name": "python3"
  },
  "language_info": {
   "codemirror_mode": {
    "name": "ipython",
    "version": 3
   },
   "file_extension": ".py",
   "mimetype": "text/x-python",
   "name": "python",
   "nbconvert_exporter": "python",
   "pygments_lexer": "ipython3",
   "version": "3.8.3"
  }
 },
 "nbformat": 4,
 "nbformat_minor": 4
}
