{
 "cells": [
  {
   "cell_type": "markdown",
   "metadata": {},
   "source": [
    "## Task 1"
   ]
  },
  {
   "cell_type": "markdown",
   "metadata": {},
   "source": [
    "##### Python to take a list as input and to return a dictionary of unique items in the list as keys and the number of times each item appears as values\n",
    "##### I am using my latest golf scorecard as a list of results on each of 18 holes "
   ]
  },
  {
   "cell_type": "code",
   "execution_count": 31,
   "metadata": {},
   "outputs": [],
   "source": [
    "import numpy as np"
   ]
  },
  {
   "cell_type": "code",
   "execution_count": 32,
   "metadata": {
    "scrolled": false
   },
   "outputs": [
    {
     "name": "stdout",
     "output_type": "stream",
     "text": [
      "{'Bogey': 3, 'Par': 6, 'Q_Bogey': 2, 'T_Bogey': 2, 'D_Bogey': 4, 'Birdie': 1}\n"
     ]
    }
   ],
   "source": [
    "\n",
    "\n",
    "def Counts(my_golf_scorecard): \n",
    "   \n",
    "   # We have to create an empty dictionary first\n",
    "   count = {} \n",
    "   for i in ['Bogey', 'Bogey','Par','Par', 'Q_Bogey', 'T_Bogey', 'D_Bogey', 'Par', 'Bogey', 'Par', 'Birdie', 'Q_Bogey', 'D_Bogey', 'D_Bogey', 'Par', 'D_Bogey','Par', 'T_Bogey'] : \n",
    "\n",
    "      count[i] = count.get(i, 0) + 1        # using an in-built Python get() function\n",
    "   return count \n",
    "\n",
    " # Driver function       \n",
    "if __name__ == \"__main__\":  \n",
    "   my_golf_scorecard = ['Bogey', 'Bogey','Par','Par', 'Q_Bogey', 'T_Bogey', 'D_Bogey', 'Par', 'Bogey', 'Par', 'Birdie', 'Q_Bogey', 'D_Bogey', 'D_Bogey', 'Par', 'D_Bogey','Par', 'T_Bogey'] \n",
    "   print(Counts(my_golf_scorecard)) "
   ]
  },
  {
   "cell_type": "raw",
   "metadata": {},
   "source": [
    "\n",
    "References:\n",
    "\n",
    "Driver function           https://www.codegrepper.com/code-examples/delphi/if+__name__%3D%3D+__main__+in+python\n",
    "<br><br>  \n",
    "                          https://www.geeksforgeeks.org/what-does-the-if-__name__-__main__-do/#:~:text=Python%20files%20can%20act%20as,run%20directly%2C%20and%20not%20imported.\n",
    "    \n",
    " "
   ]
  },
  {
   "cell_type": "markdown",
   "metadata": {},
   "source": [
    "## Task 2"
   ]
  },
  {
   "cell_type": "markdown",
   "metadata": {},
   "source": [
    "##### Write a Python function called dicerolls that simulates rolling dice. The function shoud simulate randomly rolling k dice n times, keeping track of each total face value. It should then return a dictionary with the number of times each possible total face value occured.\n",
    "***"
   ]
  },
  {
   "cell_type": "code",
   "execution_count": 29,
   "metadata": {},
   "outputs": [],
   "source": [
    "# import necessary libraries\n",
    "import numpy as np\n",
    "import matplotlib.pyplot as plt\n",
    "import seaborn as sns\n",
    "%matplotlib inline\n",
    "import random"
   ]
  },
  {
   "cell_type": "code",
   "execution_count": 42,
   "metadata": {},
   "outputs": [],
   "source": [
    "# number of dice k = 2, times rolled n = 1000\n",
    "# we need to create a function that will allow us to simulate rolling 2 dice in the loop for 1000 times. \n",
    "# Then we are to append results to a list.\n",
    "\n",
    "def dicerolls(n):\n",
    "    roll_results = []\n",
    "    while n < 1001:\n",
    "      dice_1 = np.random.randint(1,7) \n",
    "      dice_2 = np.random.randint(1,7) \n",
    "      dice_total = dice_1 + dice_2\n",
    "      roll_results.append(dice_total)\n",
    "    return roll_results"
   ]
  },
  {
   "cell_type": "markdown",
   "metadata": {},
   "source": [
    "#### Converting our array into a list\n",
    "Reference:  https://www.journaldev.com/32797/python-convert-numpy-array-to-list"
   ]
  },
  {
   "cell_type": "code",
   "execution_count": 43,
   "metadata": {
    "scrolled": true
   },
   "outputs": [
    {
     "ename": "NameError",
     "evalue": "name 'dice_total' is not defined",
     "output_type": "error",
     "traceback": [
      "\u001b[1;31m---------------------------------------------------------------------------\u001b[0m",
      "\u001b[1;31mNameError\u001b[0m                                 Traceback (most recent call last)",
      "\u001b[1;32m<ipython-input-43-de376e952b42>\u001b[0m in \u001b[0;36m<module>\u001b[1;34m\u001b[0m\n\u001b[1;32m----> 1\u001b[1;33m \u001b[0mdice_total_list\u001b[0m \u001b[1;33m=\u001b[0m \u001b[0mdice_total\u001b[0m\u001b[1;33m.\u001b[0m\u001b[0mtolist\u001b[0m\u001b[1;33m(\u001b[0m\u001b[1;33m)\u001b[0m\u001b[1;33m\u001b[0m\u001b[1;33m\u001b[0m\u001b[0m\n\u001b[0m\u001b[0;32m      2\u001b[0m \u001b[0mprint\u001b[0m\u001b[1;33m(\u001b[0m\u001b[1;34mf'Dice_total: {dice_total_list}'\u001b[0m\u001b[1;33m)\u001b[0m\u001b[1;33m\u001b[0m\u001b[1;33m\u001b[0m\u001b[0m\n",
      "\u001b[1;31mNameError\u001b[0m: name 'dice_total' is not defined"
     ]
    }
   ],
   "source": [
    "dice_total_list = dice_total.tolist()\n",
    "print(f'Dice_total: {dice_total_list}')"
   ]
  },
  {
   "cell_type": "code",
   "execution_count": 44,
   "metadata": {},
   "outputs": [],
   "source": [
    "# creating an empty list that will store the 2nd value - amount of times each sum occured \n",
    "list2 = []"
   ]
  },
  {
   "cell_type": "code",
   "execution_count": 45,
   "metadata": {},
   "outputs": [
    {
     "ename": "NameError",
     "evalue": "name 'dice_total_list' is not defined",
     "output_type": "error",
     "traceback": [
      "\u001b[1;31m---------------------------------------------------------------------------\u001b[0m",
      "\u001b[1;31mNameError\u001b[0m                                 Traceback (most recent call last)",
      "\u001b[1;32m<ipython-input-45-bfb85301fb22>\u001b[0m in \u001b[0;36m<module>\u001b[1;34m\u001b[0m\n\u001b[1;32m----> 1\u001b[1;33m \u001b[0mtwo\u001b[0m \u001b[1;33m=\u001b[0m \u001b[0mdice_total_list\u001b[0m\u001b[1;33m.\u001b[0m\u001b[0mcount\u001b[0m\u001b[1;33m(\u001b[0m\u001b[1;36m2\u001b[0m\u001b[1;33m)\u001b[0m\u001b[1;33m\u001b[0m\u001b[1;33m\u001b[0m\u001b[0m\n\u001b[0m\u001b[0;32m      2\u001b[0m \u001b[0mthree\u001b[0m \u001b[1;33m=\u001b[0m \u001b[0mdice_total_list\u001b[0m\u001b[1;33m.\u001b[0m\u001b[0mcount\u001b[0m\u001b[1;33m(\u001b[0m\u001b[1;36m3\u001b[0m\u001b[1;33m)\u001b[0m\u001b[1;33m\u001b[0m\u001b[1;33m\u001b[0m\u001b[0m\n\u001b[0;32m      3\u001b[0m \u001b[0mfour\u001b[0m \u001b[1;33m=\u001b[0m \u001b[0mdice_total_list\u001b[0m\u001b[1;33m.\u001b[0m\u001b[0mcount\u001b[0m\u001b[1;33m(\u001b[0m\u001b[1;36m4\u001b[0m\u001b[1;33m)\u001b[0m\u001b[1;33m\u001b[0m\u001b[1;33m\u001b[0m\u001b[0m\n\u001b[0;32m      4\u001b[0m \u001b[0mfive\u001b[0m \u001b[1;33m=\u001b[0m \u001b[0mdice_total_list\u001b[0m\u001b[1;33m.\u001b[0m\u001b[0mcount\u001b[0m\u001b[1;33m(\u001b[0m\u001b[1;36m5\u001b[0m\u001b[1;33m)\u001b[0m\u001b[1;33m\u001b[0m\u001b[1;33m\u001b[0m\u001b[0m\n\u001b[0;32m      5\u001b[0m \u001b[0msix\u001b[0m \u001b[1;33m=\u001b[0m \u001b[0mdice_total_list\u001b[0m\u001b[1;33m.\u001b[0m\u001b[0mcount\u001b[0m\u001b[1;33m(\u001b[0m\u001b[1;36m6\u001b[0m\u001b[1;33m)\u001b[0m\u001b[1;33m\u001b[0m\u001b[1;33m\u001b[0m\u001b[0m\n",
      "\u001b[1;31mNameError\u001b[0m: name 'dice_total_list' is not defined"
     ]
    }
   ],
   "source": [
    "two = dice_total_list.count(2)\n",
    "three = dice_total_list.count(3)\n",
    "four = dice_total_list.count(4)\n",
    "five = dice_total_list.count(5)\n",
    "six = dice_total_list.count(6)\n",
    "seven = dice_total_list.count(7)\n",
    "eight = dice_total_list.count(8)\n",
    "nine = dice_total_list.count(9)\n",
    "ten = dice_total_list.count(10)\n",
    "eleven = dice_total_list.count(11)\n",
    "twelve = dice_total_list.count(12)"
   ]
  },
  {
   "cell_type": "code",
   "execution_count": 46,
   "metadata": {},
   "outputs": [],
   "source": [
    "# creating the 1st list that will store the 1st value - all the possible sums of 2 dice\n",
    "list1 = [2,3,4,5,6,7,8,9,10,11,12]"
   ]
  },
  {
   "cell_type": "code",
   "execution_count": 47,
   "metadata": {},
   "outputs": [
    {
     "ename": "NameError",
     "evalue": "name 'two' is not defined",
     "output_type": "error",
     "traceback": [
      "\u001b[1;31m---------------------------------------------------------------------------\u001b[0m",
      "\u001b[1;31mNameError\u001b[0m                                 Traceback (most recent call last)",
      "\u001b[1;32m<ipython-input-47-1b1b94ad3784>\u001b[0m in \u001b[0;36m<module>\u001b[1;34m\u001b[0m\n\u001b[0;32m      2\u001b[0m \u001b[1;31m# https://stackoverflow.com/questions/20196159/how-to-append-multiple-values-to-a-list-in-python#:~:text=extend%20to%20extend%20the%20list,provides%20a%20sequence%20of%20values.&text=So%20you%20can%20use%20list,()%20to%20append%20multiple%20values.\u001b[0m\u001b[1;33m\u001b[0m\u001b[1;33m\u001b[0m\u001b[1;33m\u001b[0m\u001b[0m\n\u001b[0;32m      3\u001b[0m \u001b[1;33m\u001b[0m\u001b[0m\n\u001b[1;32m----> 4\u001b[1;33m \u001b[0mlist2\u001b[0m\u001b[1;33m.\u001b[0m\u001b[0mextend\u001b[0m\u001b[1;33m(\u001b[0m\u001b[1;33m(\u001b[0m\u001b[0mtwo\u001b[0m\u001b[1;33m,\u001b[0m\u001b[0mthree\u001b[0m\u001b[1;33m,\u001b[0m\u001b[0mfour\u001b[0m\u001b[1;33m,\u001b[0m\u001b[0mfive\u001b[0m\u001b[1;33m,\u001b[0m\u001b[0msix\u001b[0m\u001b[1;33m,\u001b[0m\u001b[0mseven\u001b[0m\u001b[1;33m,\u001b[0m\u001b[0meight\u001b[0m\u001b[1;33m,\u001b[0m\u001b[0mnine\u001b[0m\u001b[1;33m,\u001b[0m\u001b[0mten\u001b[0m\u001b[1;33m,\u001b[0m\u001b[0meleven\u001b[0m\u001b[1;33m,\u001b[0m\u001b[0mtwelve\u001b[0m\u001b[1;33m)\u001b[0m\u001b[1;33m)\u001b[0m\u001b[1;33m\u001b[0m\u001b[1;33m\u001b[0m\u001b[0m\n\u001b[0m",
      "\u001b[1;31mNameError\u001b[0m: name 'two' is not defined"
     ]
    }
   ],
   "source": [
    "# using .extend() function to add values to list2\n",
    "# https://stackoverflow.com/questions/20196159/how-to-append-multiple-values-to-a-list-in-python#:~:text=extend%20to%20extend%20the%20list,provides%20a%20sequence%20of%20values.&text=So%20you%20can%20use%20list,()%20to%20append%20multiple%20values.\n",
    "\n",
    "list2.extend((two,three,four,five,six,seven,eight,nine,ten,eleven,twelve))"
   ]
  },
  {
   "cell_type": "code",
   "execution_count": 48,
   "metadata": {},
   "outputs": [
    {
     "data": {
      "text/plain": [
       "[]"
      ]
     },
     "execution_count": 48,
     "metadata": {},
     "output_type": "execute_result"
    }
   ],
   "source": [
    "list2"
   ]
  },
  {
   "cell_type": "raw",
   "metadata": {},
   "source": [
    "We combine data from list1 and list2 into one single dictionary\n",
    "\n",
    "# https://careerkarma.com/blog/python-convert-list-to-dictionary/#:~:text=Converting%20a%20list%20to%20a,the%20Python%20zip()%20function.\n",
    "# https://stackoverflow.com/questions/209840/convert-two-lists-into-a-dictionary"
   ]
  },
  {
   "cell_type": "code",
   "execution_count": 49,
   "metadata": {},
   "outputs": [
    {
     "ename": "IndexError",
     "evalue": "list index out of range",
     "output_type": "error",
     "traceback": [
      "\u001b[1;31m---------------------------------------------------------------------------\u001b[0m",
      "\u001b[1;31mIndexError\u001b[0m                                Traceback (most recent call last)",
      "\u001b[1;32m<ipython-input-49-bf6ae4f80c37>\u001b[0m in \u001b[0;36m<module>\u001b[1;34m\u001b[0m\n\u001b[1;32m----> 1\u001b[1;33m \u001b[0mdictionary\u001b[0m \u001b[1;33m=\u001b[0m \u001b[1;33m{\u001b[0m\u001b[0mlist1\u001b[0m\u001b[1;33m[\u001b[0m\u001b[0mi\u001b[0m\u001b[1;33m]\u001b[0m\u001b[1;33m:\u001b[0m \u001b[0mlist2\u001b[0m\u001b[1;33m[\u001b[0m\u001b[0mi\u001b[0m\u001b[1;33m]\u001b[0m \u001b[1;32mfor\u001b[0m \u001b[0mi\u001b[0m \u001b[1;32min\u001b[0m \u001b[0mrange\u001b[0m\u001b[1;33m(\u001b[0m\u001b[0mlen\u001b[0m\u001b[1;33m(\u001b[0m\u001b[0mlist1\u001b[0m\u001b[1;33m)\u001b[0m\u001b[1;33m)\u001b[0m\u001b[1;33m}\u001b[0m\u001b[1;33m\u001b[0m\u001b[1;33m\u001b[0m\u001b[0m\n\u001b[0m",
      "\u001b[1;32m<ipython-input-49-bf6ae4f80c37>\u001b[0m in \u001b[0;36m<dictcomp>\u001b[1;34m(.0)\u001b[0m\n\u001b[1;32m----> 1\u001b[1;33m \u001b[0mdictionary\u001b[0m \u001b[1;33m=\u001b[0m \u001b[1;33m{\u001b[0m\u001b[0mlist1\u001b[0m\u001b[1;33m[\u001b[0m\u001b[0mi\u001b[0m\u001b[1;33m]\u001b[0m\u001b[1;33m:\u001b[0m \u001b[0mlist2\u001b[0m\u001b[1;33m[\u001b[0m\u001b[0mi\u001b[0m\u001b[1;33m]\u001b[0m \u001b[1;32mfor\u001b[0m \u001b[0mi\u001b[0m \u001b[1;32min\u001b[0m \u001b[0mrange\u001b[0m\u001b[1;33m(\u001b[0m\u001b[0mlen\u001b[0m\u001b[1;33m(\u001b[0m\u001b[0mlist1\u001b[0m\u001b[1;33m)\u001b[0m\u001b[1;33m)\u001b[0m\u001b[1;33m}\u001b[0m\u001b[1;33m\u001b[0m\u001b[1;33m\u001b[0m\u001b[0m\n\u001b[0m",
      "\u001b[1;31mIndexError\u001b[0m: list index out of range"
     ]
    }
   ],
   "source": [
    "dictionary = {list1[i]: list2[i] for i in range(len(list1))}"
   ]
  },
  {
   "cell_type": "code",
   "execution_count": 50,
   "metadata": {},
   "outputs": [
    {
     "ename": "NameError",
     "evalue": "name 'dictionary' is not defined",
     "output_type": "error",
     "traceback": [
      "\u001b[1;31m---------------------------------------------------------------------------\u001b[0m",
      "\u001b[1;31mNameError\u001b[0m                                 Traceback (most recent call last)",
      "\u001b[1;32m<ipython-input-50-c8c896c3840a>\u001b[0m in \u001b[0;36m<module>\u001b[1;34m\u001b[0m\n\u001b[1;32m----> 1\u001b[1;33m \u001b[0mdictionary\u001b[0m\u001b[1;33m\u001b[0m\u001b[1;33m\u001b[0m\u001b[0m\n\u001b[0m",
      "\u001b[1;31mNameError\u001b[0m: name 'dictionary' is not defined"
     ]
    }
   ],
   "source": [
    "dictionary"
   ]
  },
  {
   "cell_type": "code",
   "execution_count": null,
   "metadata": {},
   "outputs": [],
   "source": []
  },
  {
   "cell_type": "code",
   "execution_count": null,
   "metadata": {},
   "outputs": [],
   "source": []
  }
 ],
 "metadata": {
  "kernelspec": {
   "display_name": "Python 3",
   "language": "python",
   "name": "python3"
  },
  "language_info": {
   "codemirror_mode": {
    "name": "ipython",
    "version": 3
   },
   "file_extension": ".py",
   "mimetype": "text/x-python",
   "name": "python",
   "nbconvert_exporter": "python",
   "pygments_lexer": "ipython3",
   "version": "3.8.3"
  }
 },
 "nbformat": 4,
 "nbformat_minor": 4
}
